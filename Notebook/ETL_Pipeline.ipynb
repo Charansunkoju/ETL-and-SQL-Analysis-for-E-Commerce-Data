{
  "cells": [
    {
      "cell_type": "code",
      "execution_count": 1,
      "metadata": {
        "id": "XkP2EoY6Z5fL"
      },
      "outputs": [],
      "source": [
        "import pandas as pd"
      ]
    },
    {
      "cell_type": "code",
      "execution_count": 6,
      "metadata": {},
      "outputs": [
        {
          "name": "stdout",
          "output_type": "stream",
          "text": [
            "Note: you may need to restart the kernel to use updated packages.Collecting openpyxl\n",
            "  Downloading openpyxl-3.1.5-py2.py3-none-any.whl.metadata (2.5 kB)\n",
            "Collecting et-xmlfile (from openpyxl)\n",
            "  Downloading et_xmlfile-2.0.0-py3-none-any.whl.metadata (2.7 kB)\n",
            "Downloading openpyxl-3.1.5-py2.py3-none-any.whl (250 kB)\n",
            "   ---------------------------------------- 0.0/250.9 kB ? eta -:--:--\n",
            "   ---------------------------------------- 0.0/250.9 kB ? eta -:--:--\n",
            "   - -------------------------------------- 10.2/250.9 kB ? eta -:--:--\n",
            "   ------ -------------------------------- 41.0/250.9 kB 393.8 kB/s eta 0:00:01\n",
            "   ----------------------------- ---------- 184.3/250.9 kB 1.4 MB/s eta 0:00:01\n",
            "   ---------------------------------------- 250.9/250.9 kB 1.7 MB/s eta 0:00:00\n",
            "Downloading et_xmlfile-2.0.0-py3-none-any.whl (18 kB)\n",
            "Installing collected packages: et-xmlfile, openpyxl\n",
            "Successfully installed et-xmlfile-2.0.0 openpyxl-3.1.5\n",
            "\n"
          ]
        },
        {
          "name": "stderr",
          "output_type": "stream",
          "text": [
            "\n",
            "[notice] A new release of pip is available: 24.0 -> 25.0.1\n",
            "[notice] To update, run: C:\\Users\\91814\\AppData\\Local\\Microsoft\\WindowsApps\\PythonSoftwareFoundation.Python.3.11_qbz5n2kfra8p0\\python.exe -m pip install --upgrade pip\n"
          ]
        }
      ],
      "source": [
        "pip install openpyxl"
      ]
    },
    {
      "cell_type": "code",
      "execution_count": 7,
      "metadata": {
        "id": "PsDVEcBsarU9"
      },
      "outputs": [],
      "source": [
        "df1 = pd.read_excel(r\"C:\\Users\\91814\\Downloads\\Data for ETL Assignment.xlsx\", sheet_name=\"Customers\")"
      ]
    },
    {
      "cell_type": "code",
      "execution_count": 8,
      "metadata": {
        "colab": {
          "base_uri": "https://localhost:8080/",
          "height": 206
        },
        "id": "xYnauNi2aLSj",
        "outputId": "2acd21d1-d74b-4e11-8df2-79b395711bbe"
      },
      "outputs": [
        {
          "data": {
            "text/html": [
              "<div>\n",
              "<style scoped>\n",
              "    .dataframe tbody tr th:only-of-type {\n",
              "        vertical-align: middle;\n",
              "    }\n",
              "\n",
              "    .dataframe tbody tr th {\n",
              "        vertical-align: top;\n",
              "    }\n",
              "\n",
              "    .dataframe thead th {\n",
              "        text-align: right;\n",
              "    }\n",
              "</style>\n",
              "<table border=\"1\" class=\"dataframe\">\n",
              "  <thead>\n",
              "    <tr style=\"text-align: right;\">\n",
              "      <th></th>\n",
              "      <th>customer_id</th>\n",
              "      <th>first_name</th>\n",
              "      <th>last_name</th>\n",
              "      <th>email</th>\n",
              "      <th>phone_number</th>\n",
              "      <th>created_at</th>\n",
              "    </tr>\n",
              "  </thead>\n",
              "  <tbody>\n",
              "    <tr>\n",
              "      <th>0</th>\n",
              "      <td>1</td>\n",
              "      <td>Regina</td>\n",
              "      <td>Banks</td>\n",
              "      <td>kjones@petty.biz</td>\n",
              "      <td>374.831.2327x000</td>\n",
              "      <td>2022-11-20 19:15:32</td>\n",
              "    </tr>\n",
              "    <tr>\n",
              "      <th>1</th>\n",
              "      <td>2</td>\n",
              "      <td>Mark</td>\n",
              "      <td>Pena</td>\n",
              "      <td>mercedes42@warner.com</td>\n",
              "      <td>001-698-370-1197x3825</td>\n",
              "      <td>2025-02-08 03:18:03</td>\n",
              "    </tr>\n",
              "    <tr>\n",
              "      <th>2</th>\n",
              "      <td>3</td>\n",
              "      <td>Amanda</td>\n",
              "      <td>Carney</td>\n",
              "      <td>ricardosimmons@gmail.com</td>\n",
              "      <td>946-520-9112</td>\n",
              "      <td>2022-06-28 09:04:15</td>\n",
              "    </tr>\n",
              "    <tr>\n",
              "      <th>3</th>\n",
              "      <td>4</td>\n",
              "      <td>Brandon</td>\n",
              "      <td>Lee</td>\n",
              "      <td>kelleycharles@hotmail.com</td>\n",
              "      <td>915.139.9155x10333</td>\n",
              "      <td>2023-03-06 14:40:08</td>\n",
              "    </tr>\n",
              "    <tr>\n",
              "      <th>4</th>\n",
              "      <td>5</td>\n",
              "      <td>Theresa</td>\n",
              "      <td>Ramirez</td>\n",
              "      <td>amybrown@butler.biz</td>\n",
              "      <td>(307)514-8871x86410</td>\n",
              "      <td>2024-08-19 05:20:11</td>\n",
              "    </tr>\n",
              "  </tbody>\n",
              "</table>\n",
              "</div>"
            ],
            "text/plain": [
              "   customer_id first_name last_name                      email  \\\n",
              "0            1     Regina     Banks           kjones@petty.biz   \n",
              "1            2       Mark      Pena      mercedes42@warner.com   \n",
              "2            3     Amanda    Carney   ricardosimmons@gmail.com   \n",
              "3            4    Brandon       Lee  kelleycharles@hotmail.com   \n",
              "4            5    Theresa   Ramirez        amybrown@butler.biz   \n",
              "\n",
              "            phone_number          created_at  \n",
              "0       374.831.2327x000 2022-11-20 19:15:32  \n",
              "1  001-698-370-1197x3825 2025-02-08 03:18:03  \n",
              "2           946-520-9112 2022-06-28 09:04:15  \n",
              "3     915.139.9155x10333 2023-03-06 14:40:08  \n",
              "4    (307)514-8871x86410 2024-08-19 05:20:11  "
            ]
          },
          "execution_count": 8,
          "metadata": {},
          "output_type": "execute_result"
        }
      ],
      "source": [
        "df1.head()"
      ]
    },
    {
      "cell_type": "code",
      "execution_count": 10,
      "metadata": {
        "id": "HApWA3haaLVH"
      },
      "outputs": [],
      "source": [
        "df2 = pd.read_excel(r\"C:\\Users\\91814\\Downloads\\Data for ETL Assignment.xlsx\",sheet_name=\"Products\")"
      ]
    },
    {
      "cell_type": "code",
      "execution_count": 11,
      "metadata": {
        "colab": {
          "base_uri": "https://localhost:8080/",
          "height": 424
        },
        "id": "lJ0EvQD7bpgP",
        "outputId": "d7e120e8-ae9a-4add-aa13-5da4b5fabe60"
      },
      "outputs": [
        {
          "data": {
            "text/html": [
              "<div>\n",
              "<style scoped>\n",
              "    .dataframe tbody tr th:only-of-type {\n",
              "        vertical-align: middle;\n",
              "    }\n",
              "\n",
              "    .dataframe tbody tr th {\n",
              "        vertical-align: top;\n",
              "    }\n",
              "\n",
              "    .dataframe thead th {\n",
              "        text-align: right;\n",
              "    }\n",
              "</style>\n",
              "<table border=\"1\" class=\"dataframe\">\n",
              "  <thead>\n",
              "    <tr style=\"text-align: right;\">\n",
              "      <th></th>\n",
              "      <th>product_id</th>\n",
              "      <th>product_name</th>\n",
              "      <th>category</th>\n",
              "      <th>price</th>\n",
              "      <th>stock_quantity</th>\n",
              "      <th>created_at</th>\n",
              "    </tr>\n",
              "  </thead>\n",
              "  <tbody>\n",
              "    <tr>\n",
              "      <th>0</th>\n",
              "      <td>1</td>\n",
              "      <td>Money Wear</td>\n",
              "      <td>Toys</td>\n",
              "      <td>234.12</td>\n",
              "      <td>238</td>\n",
              "      <td>2023-08-23 13:17:46</td>\n",
              "    </tr>\n",
              "    <tr>\n",
              "      <th>1</th>\n",
              "      <td>2</td>\n",
              "      <td>Remain Item</td>\n",
              "      <td>Sports</td>\n",
              "      <td>115.50</td>\n",
              "      <td>240</td>\n",
              "      <td>2024-06-17 08:50:24</td>\n",
              "    </tr>\n",
              "    <tr>\n",
              "      <th>2</th>\n",
              "      <td>3</td>\n",
              "      <td>True Gadget</td>\n",
              "      <td>Electronics</td>\n",
              "      <td>107.63</td>\n",
              "      <td>90</td>\n",
              "      <td>2025-01-15 02:58:29</td>\n",
              "    </tr>\n",
              "    <tr>\n",
              "      <th>3</th>\n",
              "      <td>4</td>\n",
              "      <td>Southern Gadget</td>\n",
              "      <td>Clothing</td>\n",
              "      <td>108.82</td>\n",
              "      <td>239</td>\n",
              "      <td>2022-05-27 14:34:01</td>\n",
              "    </tr>\n",
              "    <tr>\n",
              "      <th>4</th>\n",
              "      <td>5</td>\n",
              "      <td>Resource Wear</td>\n",
              "      <td>Clothing</td>\n",
              "      <td>103.66</td>\n",
              "      <td>423</td>\n",
              "      <td>2021-03-05 14:09:38</td>\n",
              "    </tr>\n",
              "    <tr>\n",
              "      <th>...</th>\n",
              "      <td>...</td>\n",
              "      <td>...</td>\n",
              "      <td>...</td>\n",
              "      <td>...</td>\n",
              "      <td>...</td>\n",
              "      <td>...</td>\n",
              "    </tr>\n",
              "    <tr>\n",
              "      <th>95</th>\n",
              "      <td>96</td>\n",
              "      <td>Against Device</td>\n",
              "      <td>Books</td>\n",
              "      <td>66.85</td>\n",
              "      <td>244</td>\n",
              "      <td>2023-04-30 18:40:09</td>\n",
              "    </tr>\n",
              "    <tr>\n",
              "      <th>96</th>\n",
              "      <td>97</td>\n",
              "      <td>All Wear</td>\n",
              "      <td>Toys</td>\n",
              "      <td>496.07</td>\n",
              "      <td>385</td>\n",
              "      <td>2022-08-15 10:12:15</td>\n",
              "    </tr>\n",
              "    <tr>\n",
              "      <th>97</th>\n",
              "      <td>98</td>\n",
              "      <td>Include Gadget</td>\n",
              "      <td>Clothing</td>\n",
              "      <td>416.28</td>\n",
              "      <td>288</td>\n",
              "      <td>2021-06-28 17:52:04</td>\n",
              "    </tr>\n",
              "    <tr>\n",
              "      <th>98</th>\n",
              "      <td>99</td>\n",
              "      <td>Address Device</td>\n",
              "      <td>Electronics</td>\n",
              "      <td>315.38</td>\n",
              "      <td>422</td>\n",
              "      <td>2021-05-29 22:26:06</td>\n",
              "    </tr>\n",
              "    <tr>\n",
              "      <th>99</th>\n",
              "      <td>100</td>\n",
              "      <td>Hope Tool</td>\n",
              "      <td>Toys</td>\n",
              "      <td>78.27</td>\n",
              "      <td>60</td>\n",
              "      <td>2021-11-20 07:02:04</td>\n",
              "    </tr>\n",
              "  </tbody>\n",
              "</table>\n",
              "<p>100 rows × 6 columns</p>\n",
              "</div>"
            ],
            "text/plain": [
              "    product_id     product_name     category   price  stock_quantity  \\\n",
              "0            1       Money Wear         Toys  234.12             238   \n",
              "1            2      Remain Item       Sports  115.50             240   \n",
              "2            3      True Gadget  Electronics  107.63              90   \n",
              "3            4  Southern Gadget     Clothing  108.82             239   \n",
              "4            5    Resource Wear     Clothing  103.66             423   \n",
              "..         ...              ...          ...     ...             ...   \n",
              "95          96   Against Device        Books   66.85             244   \n",
              "96          97         All Wear         Toys  496.07             385   \n",
              "97          98   Include Gadget     Clothing  416.28             288   \n",
              "98          99   Address Device  Electronics  315.38             422   \n",
              "99         100        Hope Tool         Toys   78.27              60   \n",
              "\n",
              "            created_at  \n",
              "0  2023-08-23 13:17:46  \n",
              "1  2024-06-17 08:50:24  \n",
              "2  2025-01-15 02:58:29  \n",
              "3  2022-05-27 14:34:01  \n",
              "4  2021-03-05 14:09:38  \n",
              "..                 ...  \n",
              "95 2023-04-30 18:40:09  \n",
              "96 2022-08-15 10:12:15  \n",
              "97 2021-06-28 17:52:04  \n",
              "98 2021-05-29 22:26:06  \n",
              "99 2021-11-20 07:02:04  \n",
              "\n",
              "[100 rows x 6 columns]"
            ]
          },
          "execution_count": 11,
          "metadata": {},
          "output_type": "execute_result"
        }
      ],
      "source": [
        "df2"
      ]
    },
    {
      "cell_type": "code",
      "execution_count": 60,
      "metadata": {
        "id": "b0Op5pq6aLXw"
      },
      "outputs": [],
      "source": [
        "df3 = pd.read_excel(r\"C:\\Users\\91814\\Downloads\\Data for ETL Assignment.xlsx\",sheet_name=\"Orders\")"
      ]
    },
    {
      "cell_type": "code",
      "execution_count": 61,
      "metadata": {
        "colab": {
          "base_uri": "https://localhost:8080/",
          "height": 424
        },
        "id": "jqotZgRfbl7v",
        "outputId": "b66b292a-72dc-4e94-9b46-b3515638c38a"
      },
      "outputs": [
        {
          "data": {
            "text/html": [
              "<div>\n",
              "<style scoped>\n",
              "    .dataframe tbody tr th:only-of-type {\n",
              "        vertical-align: middle;\n",
              "    }\n",
              "\n",
              "    .dataframe tbody tr th {\n",
              "        vertical-align: top;\n",
              "    }\n",
              "\n",
              "    .dataframe thead th {\n",
              "        text-align: right;\n",
              "    }\n",
              "</style>\n",
              "<table border=\"1\" class=\"dataframe\">\n",
              "  <thead>\n",
              "    <tr style=\"text-align: right;\">\n",
              "      <th></th>\n",
              "      <th>order_id</th>\n",
              "      <th>customer_id</th>\n",
              "      <th>order_date</th>\n",
              "      <th>total_amount</th>\n",
              "      <th>status</th>\n",
              "      <th>Product_id</th>\n",
              "    </tr>\n",
              "  </thead>\n",
              "  <tbody>\n",
              "    <tr>\n",
              "      <th>0</th>\n",
              "      <td>1</td>\n",
              "      <td>82</td>\n",
              "      <td>2024-01-17 19:11:33</td>\n",
              "      <td>163.94</td>\n",
              "      <td>Delivered</td>\n",
              "      <td>56</td>\n",
              "    </tr>\n",
              "    <tr>\n",
              "      <th>1</th>\n",
              "      <td>2</td>\n",
              "      <td>10</td>\n",
              "      <td>2022-05-11 02:09:15</td>\n",
              "      <td>334.71</td>\n",
              "      <td>Shipped</td>\n",
              "      <td>66</td>\n",
              "    </tr>\n",
              "    <tr>\n",
              "      <th>2</th>\n",
              "      <td>3</td>\n",
              "      <td>74</td>\n",
              "      <td>2020-05-20 20:11:19</td>\n",
              "      <td>674.77</td>\n",
              "      <td>Cancelled</td>\n",
              "      <td>6</td>\n",
              "    </tr>\n",
              "    <tr>\n",
              "      <th>3</th>\n",
              "      <td>4</td>\n",
              "      <td>22</td>\n",
              "      <td>2024-08-01 06:28:08</td>\n",
              "      <td>995.61</td>\n",
              "      <td>Delivered</td>\n",
              "      <td>48</td>\n",
              "    </tr>\n",
              "    <tr>\n",
              "      <th>4</th>\n",
              "      <td>5</td>\n",
              "      <td>19</td>\n",
              "      <td>2022-09-01 10:24:57</td>\n",
              "      <td>747.65</td>\n",
              "      <td>Shipped</td>\n",
              "      <td>35</td>\n",
              "    </tr>\n",
              "    <tr>\n",
              "      <th>...</th>\n",
              "      <td>...</td>\n",
              "      <td>...</td>\n",
              "      <td>...</td>\n",
              "      <td>...</td>\n",
              "      <td>...</td>\n",
              "      <td>...</td>\n",
              "    </tr>\n",
              "    <tr>\n",
              "      <th>195</th>\n",
              "      <td>196</td>\n",
              "      <td>28</td>\n",
              "      <td>2024-02-17 10:04:28</td>\n",
              "      <td>773.95</td>\n",
              "      <td>Shipped</td>\n",
              "      <td>95</td>\n",
              "    </tr>\n",
              "    <tr>\n",
              "      <th>196</th>\n",
              "      <td>197</td>\n",
              "      <td>98</td>\n",
              "      <td>2022-08-07 21:36:46</td>\n",
              "      <td>871.39</td>\n",
              "      <td>Cancelled</td>\n",
              "      <td>27</td>\n",
              "    </tr>\n",
              "    <tr>\n",
              "      <th>197</th>\n",
              "      <td>198</td>\n",
              "      <td>36</td>\n",
              "      <td>2024-11-26 20:42:36</td>\n",
              "      <td>712.46</td>\n",
              "      <td>Shipped</td>\n",
              "      <td>98</td>\n",
              "    </tr>\n",
              "    <tr>\n",
              "      <th>198</th>\n",
              "      <td>199</td>\n",
              "      <td>86</td>\n",
              "      <td>2020-05-13 20:20:52</td>\n",
              "      <td>104.72</td>\n",
              "      <td>Delivered</td>\n",
              "      <td>29</td>\n",
              "    </tr>\n",
              "    <tr>\n",
              "      <th>199</th>\n",
              "      <td>200</td>\n",
              "      <td>29</td>\n",
              "      <td>2023-07-12 21:42:01</td>\n",
              "      <td>52.29</td>\n",
              "      <td>Pending</td>\n",
              "      <td>62</td>\n",
              "    </tr>\n",
              "  </tbody>\n",
              "</table>\n",
              "<p>200 rows × 6 columns</p>\n",
              "</div>"
            ],
            "text/plain": [
              "     order_id  customer_id          order_date  total_amount     status  \\\n",
              "0           1           82 2024-01-17 19:11:33        163.94  Delivered   \n",
              "1           2           10 2022-05-11 02:09:15        334.71    Shipped   \n",
              "2           3           74 2020-05-20 20:11:19        674.77  Cancelled   \n",
              "3           4           22 2024-08-01 06:28:08        995.61  Delivered   \n",
              "4           5           19 2022-09-01 10:24:57        747.65    Shipped   \n",
              "..        ...          ...                 ...           ...        ...   \n",
              "195       196           28 2024-02-17 10:04:28        773.95    Shipped   \n",
              "196       197           98 2022-08-07 21:36:46        871.39  Cancelled   \n",
              "197       198           36 2024-11-26 20:42:36        712.46    Shipped   \n",
              "198       199           86 2020-05-13 20:20:52        104.72  Delivered   \n",
              "199       200           29 2023-07-12 21:42:01         52.29    Pending   \n",
              "\n",
              "     Product_id  \n",
              "0            56  \n",
              "1            66  \n",
              "2             6  \n",
              "3            48  \n",
              "4            35  \n",
              "..          ...  \n",
              "195          95  \n",
              "196          27  \n",
              "197          98  \n",
              "198          29  \n",
              "199          62  \n",
              "\n",
              "[200 rows x 6 columns]"
            ]
          },
          "execution_count": 61,
          "metadata": {},
          "output_type": "execute_result"
        }
      ],
      "source": [
        "df3"
      ]
    },
    {
      "cell_type": "code",
      "execution_count": 55,
      "metadata": {},
      "outputs": [],
      "source": [
        "import numpy as np\n",
        "df3[\"Product_id\"] = np.random.randint(1,100)"
      ]
    },
    {
      "cell_type": "code",
      "execution_count": 57,
      "metadata": {},
      "outputs": [
        {
          "data": {
            "text/plain": [
              "1"
            ]
          },
          "execution_count": 57,
          "metadata": {},
          "output_type": "execute_result"
        }
      ],
      "source": [
        "df3[\"Product_id\"].nunique()"
      ]
    },
    {
      "cell_type": "code",
      "execution_count": 14,
      "metadata": {
        "id": "BUK0RKWnaLaL"
      },
      "outputs": [],
      "source": [
        "df4 = pd.read_excel(r\"C:\\Users\\91814\\Downloads\\Data for ETL Assignment.xlsx\",sheet_name=\"Payments\")"
      ]
    },
    {
      "cell_type": "code",
      "execution_count": 15,
      "metadata": {
        "colab": {
          "base_uri": "https://localhost:8080/",
          "height": 424
        },
        "id": "S3RX4UTtaLc2",
        "outputId": "c0b928f3-8c92-4a68-9a64-5b6119d39d48"
      },
      "outputs": [
        {
          "data": {
            "text/html": [
              "<div>\n",
              "<style scoped>\n",
              "    .dataframe tbody tr th:only-of-type {\n",
              "        vertical-align: middle;\n",
              "    }\n",
              "\n",
              "    .dataframe tbody tr th {\n",
              "        vertical-align: top;\n",
              "    }\n",
              "\n",
              "    .dataframe thead th {\n",
              "        text-align: right;\n",
              "    }\n",
              "</style>\n",
              "<table border=\"1\" class=\"dataframe\">\n",
              "  <thead>\n",
              "    <tr style=\"text-align: right;\">\n",
              "      <th></th>\n",
              "      <th>payment_id</th>\n",
              "      <th>order_id</th>\n",
              "      <th>payment_method</th>\n",
              "      <th>payment_status</th>\n",
              "      <th>payment_date</th>\n",
              "      <th>amount_paid</th>\n",
              "    </tr>\n",
              "  </thead>\n",
              "  <tbody>\n",
              "    <tr>\n",
              "      <th>0</th>\n",
              "      <td>1</td>\n",
              "      <td>197</td>\n",
              "      <td>PayPal</td>\n",
              "      <td>Completed</td>\n",
              "      <td>2021-08-07 05:44:03</td>\n",
              "      <td>627.38</td>\n",
              "    </tr>\n",
              "    <tr>\n",
              "      <th>1</th>\n",
              "      <td>2</td>\n",
              "      <td>173</td>\n",
              "      <td>Bank Transfer</td>\n",
              "      <td>Completed</td>\n",
              "      <td>2022-03-01 11:16:15</td>\n",
              "      <td>46.76</td>\n",
              "    </tr>\n",
              "    <tr>\n",
              "      <th>2</th>\n",
              "      <td>3</td>\n",
              "      <td>107</td>\n",
              "      <td>Debit Card</td>\n",
              "      <td>Completed</td>\n",
              "      <td>2024-02-26 18:44:29</td>\n",
              "      <td>586.88</td>\n",
              "    </tr>\n",
              "    <tr>\n",
              "      <th>3</th>\n",
              "      <td>4</td>\n",
              "      <td>185</td>\n",
              "      <td>Credit Card</td>\n",
              "      <td>Pending</td>\n",
              "      <td>2022-01-25 22:34:56</td>\n",
              "      <td>293.61</td>\n",
              "    </tr>\n",
              "    <tr>\n",
              "      <th>4</th>\n",
              "      <td>5</td>\n",
              "      <td>141</td>\n",
              "      <td>Cash On Delivery</td>\n",
              "      <td>Failed</td>\n",
              "      <td>2024-01-02 15:03:18</td>\n",
              "      <td>377.65</td>\n",
              "    </tr>\n",
              "    <tr>\n",
              "      <th>...</th>\n",
              "      <td>...</td>\n",
              "      <td>...</td>\n",
              "      <td>...</td>\n",
              "      <td>...</td>\n",
              "      <td>...</td>\n",
              "      <td>...</td>\n",
              "    </tr>\n",
              "    <tr>\n",
              "      <th>195</th>\n",
              "      <td>196</td>\n",
              "      <td>31</td>\n",
              "      <td>Credit Card</td>\n",
              "      <td>Pending</td>\n",
              "      <td>2022-02-16 16:46:29</td>\n",
              "      <td>349.32</td>\n",
              "    </tr>\n",
              "    <tr>\n",
              "      <th>196</th>\n",
              "      <td>197</td>\n",
              "      <td>79</td>\n",
              "      <td>PayPal</td>\n",
              "      <td>Refunded</td>\n",
              "      <td>2021-11-13 20:45:17</td>\n",
              "      <td>466.62</td>\n",
              "    </tr>\n",
              "    <tr>\n",
              "      <th>197</th>\n",
              "      <td>198</td>\n",
              "      <td>77</td>\n",
              "      <td>Debit Card</td>\n",
              "      <td>Failed</td>\n",
              "      <td>2021-09-05 11:26:14</td>\n",
              "      <td>929.56</td>\n",
              "    </tr>\n",
              "    <tr>\n",
              "      <th>198</th>\n",
              "      <td>199</td>\n",
              "      <td>190</td>\n",
              "      <td>Debit Card</td>\n",
              "      <td>Completed</td>\n",
              "      <td>2022-12-13 07:16:07</td>\n",
              "      <td>959.95</td>\n",
              "    </tr>\n",
              "    <tr>\n",
              "      <th>199</th>\n",
              "      <td>200</td>\n",
              "      <td>6</td>\n",
              "      <td>Cash On Delivery</td>\n",
              "      <td>Pending</td>\n",
              "      <td>2021-04-29 17:28:55</td>\n",
              "      <td>612.10</td>\n",
              "    </tr>\n",
              "  </tbody>\n",
              "</table>\n",
              "<p>200 rows × 6 columns</p>\n",
              "</div>"
            ],
            "text/plain": [
              "     payment_id  order_id    payment_method payment_status  \\\n",
              "0             1       197            PayPal      Completed   \n",
              "1             2       173     Bank Transfer      Completed   \n",
              "2             3       107        Debit Card      Completed   \n",
              "3             4       185       Credit Card        Pending   \n",
              "4             5       141  Cash On Delivery         Failed   \n",
              "..          ...       ...               ...            ...   \n",
              "195         196        31       Credit Card        Pending   \n",
              "196         197        79            PayPal       Refunded   \n",
              "197         198        77        Debit Card         Failed   \n",
              "198         199       190        Debit Card      Completed   \n",
              "199         200         6  Cash On Delivery        Pending   \n",
              "\n",
              "           payment_date  amount_paid  \n",
              "0   2021-08-07 05:44:03       627.38  \n",
              "1   2022-03-01 11:16:15        46.76  \n",
              "2   2024-02-26 18:44:29       586.88  \n",
              "3   2022-01-25 22:34:56       293.61  \n",
              "4   2024-01-02 15:03:18       377.65  \n",
              "..                  ...          ...  \n",
              "195 2022-02-16 16:46:29       349.32  \n",
              "196 2021-11-13 20:45:17       466.62  \n",
              "197 2021-09-05 11:26:14       929.56  \n",
              "198 2022-12-13 07:16:07       959.95  \n",
              "199 2021-04-29 17:28:55       612.10  \n",
              "\n",
              "[200 rows x 6 columns]"
            ]
          },
          "execution_count": 15,
          "metadata": {},
          "output_type": "execute_result"
        }
      ],
      "source": [
        "df4"
      ]
    },
    {
      "cell_type": "code",
      "execution_count": 16,
      "metadata": {
        "colab": {
          "base_uri": "https://localhost:8080/",
          "height": 272
        },
        "id": "zMSknOsvaLfW",
        "outputId": "ce67647f-b88d-49af-c8d5-581bb0e45db4"
      },
      "outputs": [
        {
          "data": {
            "text/plain": [
              "customer_id     0\n",
              "first_name      0\n",
              "last_name       0\n",
              "email           0\n",
              "phone_number    0\n",
              "created_at      0\n",
              "dtype: int64"
            ]
          },
          "execution_count": 16,
          "metadata": {},
          "output_type": "execute_result"
        }
      ],
      "source": [
        "df1.isnull().sum()"
      ]
    },
    {
      "cell_type": "code",
      "execution_count": 17,
      "metadata": {
        "colab": {
          "base_uri": "https://localhost:8080/",
          "height": 272
        },
        "id": "U7s965gHaLiA",
        "outputId": "3bc67cf2-73f6-476c-8bb0-ec507914539c"
      },
      "outputs": [
        {
          "data": {
            "text/plain": [
              "product_id        0\n",
              "product_name      0\n",
              "category          0\n",
              "price             0\n",
              "stock_quantity    0\n",
              "created_at        0\n",
              "dtype: int64"
            ]
          },
          "execution_count": 17,
          "metadata": {},
          "output_type": "execute_result"
        }
      ],
      "source": [
        "df2.isnull().sum()"
      ]
    },
    {
      "cell_type": "code",
      "execution_count": 62,
      "metadata": {
        "colab": {
          "base_uri": "https://localhost:8080/",
          "height": 241
        },
        "id": "WasuEi4haLkh",
        "outputId": "7329e8f6-e2e2-41f8-84f2-c34cfaf439bb"
      },
      "outputs": [
        {
          "data": {
            "text/plain": [
              "order_id        0\n",
              "customer_id     0\n",
              "order_date      0\n",
              "total_amount    0\n",
              "status          0\n",
              "Product_id      0\n",
              "dtype: int64"
            ]
          },
          "execution_count": 62,
          "metadata": {},
          "output_type": "execute_result"
        }
      ],
      "source": [
        "df3.isnull().sum()"
      ]
    },
    {
      "cell_type": "code",
      "execution_count": 19,
      "metadata": {
        "colab": {
          "base_uri": "https://localhost:8080/",
          "height": 272
        },
        "id": "pWQxkmVwaLnM",
        "outputId": "ce832baf-61eb-4f2c-c5db-039a9f60cbec"
      },
      "outputs": [
        {
          "data": {
            "text/plain": [
              "payment_id        0\n",
              "order_id          0\n",
              "payment_method    0\n",
              "payment_status    0\n",
              "payment_date      0\n",
              "amount_paid       0\n",
              "dtype: int64"
            ]
          },
          "execution_count": 19,
          "metadata": {},
          "output_type": "execute_result"
        }
      ],
      "source": [
        "df4.isnull().sum()"
      ]
    },
    {
      "cell_type": "code",
      "execution_count": 20,
      "metadata": {
        "colab": {
          "base_uri": "https://localhost:8080/"
        },
        "id": "JJ2UGhJ7aLpz",
        "outputId": "812544db-a4a0-4c20-c611-63bc5ca73821"
      },
      "outputs": [
        {
          "name": "stdout",
          "output_type": "stream",
          "text": [
            "<class 'pandas.core.frame.DataFrame'>\n",
            "RangeIndex: 100 entries, 0 to 99\n",
            "Data columns (total 6 columns):\n",
            " #   Column        Non-Null Count  Dtype         \n",
            "---  ------        --------------  -----         \n",
            " 0   customer_id   100 non-null    int64         \n",
            " 1   first_name    100 non-null    object        \n",
            " 2   last_name     100 non-null    object        \n",
            " 3   email         100 non-null    object        \n",
            " 4   phone_number  100 non-null    object        \n",
            " 5   created_at    100 non-null    datetime64[ns]\n",
            "dtypes: datetime64[ns](1), int64(1), object(4)\n",
            "memory usage: 4.8+ KB\n"
          ]
        }
      ],
      "source": [
        "df1.info()"
      ]
    },
    {
      "cell_type": "code",
      "execution_count": 21,
      "metadata": {
        "colab": {
          "base_uri": "https://localhost:8080/",
          "height": 363
        },
        "id": "BjlRJORBaLso",
        "outputId": "2f7f2d82-d1ac-4394-bbbd-28b9f5e13606"
      },
      "outputs": [
        {
          "data": {
            "text/html": [
              "<div>\n",
              "<style scoped>\n",
              "    .dataframe tbody tr th:only-of-type {\n",
              "        vertical-align: middle;\n",
              "    }\n",
              "\n",
              "    .dataframe tbody tr th {\n",
              "        vertical-align: top;\n",
              "    }\n",
              "\n",
              "    .dataframe thead th {\n",
              "        text-align: right;\n",
              "    }\n",
              "</style>\n",
              "<table border=\"1\" class=\"dataframe\">\n",
              "  <thead>\n",
              "    <tr style=\"text-align: right;\">\n",
              "      <th></th>\n",
              "      <th>customer_id</th>\n",
              "      <th>first_name</th>\n",
              "      <th>last_name</th>\n",
              "      <th>email</th>\n",
              "      <th>phone_number</th>\n",
              "      <th>created_at</th>\n",
              "    </tr>\n",
              "  </thead>\n",
              "  <tbody>\n",
              "    <tr>\n",
              "      <th>90</th>\n",
              "      <td>91</td>\n",
              "      <td>Larry</td>\n",
              "      <td>Lee</td>\n",
              "      <td>dpowers@hotmail.com</td>\n",
              "      <td>+1-407-986-0333x883</td>\n",
              "      <td>2024-02-03 16:59:56</td>\n",
              "    </tr>\n",
              "    <tr>\n",
              "      <th>91</th>\n",
              "      <td>92</td>\n",
              "      <td>Andrea</td>\n",
              "      <td>Jenkins</td>\n",
              "      <td>piercejohn@gonzales.com</td>\n",
              "      <td>(406)192-5207</td>\n",
              "      <td>2022-07-31 01:21:22</td>\n",
              "    </tr>\n",
              "    <tr>\n",
              "      <th>92</th>\n",
              "      <td>93</td>\n",
              "      <td>Brenda</td>\n",
              "      <td>Edwards</td>\n",
              "      <td>harrisalexander@flores.com</td>\n",
              "      <td>611.937.8361x4071</td>\n",
              "      <td>2025-01-28 13:09:28</td>\n",
              "    </tr>\n",
              "    <tr>\n",
              "      <th>93</th>\n",
              "      <td>94</td>\n",
              "      <td>Denise</td>\n",
              "      <td>Sullivan</td>\n",
              "      <td>alyssa10@vaughn-scott.com</td>\n",
              "      <td>+1-434-260-4446</td>\n",
              "      <td>2021-03-24 18:42:42</td>\n",
              "    </tr>\n",
              "    <tr>\n",
              "      <th>94</th>\n",
              "      <td>95</td>\n",
              "      <td>Kathleen</td>\n",
              "      <td>Gardner</td>\n",
              "      <td>marilyn16@hotmail.com</td>\n",
              "      <td>001-065-411-3296x274</td>\n",
              "      <td>2023-02-13 12:28:07</td>\n",
              "    </tr>\n",
              "    <tr>\n",
              "      <th>95</th>\n",
              "      <td>96</td>\n",
              "      <td>Brittany</td>\n",
              "      <td>Lopez</td>\n",
              "      <td>ysanchez@duncan.com</td>\n",
              "      <td>149.832.9366x605</td>\n",
              "      <td>2021-07-05 15:29:03</td>\n",
              "    </tr>\n",
              "    <tr>\n",
              "      <th>96</th>\n",
              "      <td>97</td>\n",
              "      <td>Benjamin</td>\n",
              "      <td>Cantrell</td>\n",
              "      <td>crystal86@wells.com</td>\n",
              "      <td>143.924.3829x64356</td>\n",
              "      <td>2021-10-08 11:21:26</td>\n",
              "    </tr>\n",
              "    <tr>\n",
              "      <th>97</th>\n",
              "      <td>98</td>\n",
              "      <td>Bailey</td>\n",
              "      <td>Jones</td>\n",
              "      <td>carrollcharles@yahoo.com</td>\n",
              "      <td>001-660-204-0662x57909</td>\n",
              "      <td>2022-12-06 18:54:50</td>\n",
              "    </tr>\n",
              "    <tr>\n",
              "      <th>98</th>\n",
              "      <td>99</td>\n",
              "      <td>Adam</td>\n",
              "      <td>Perkins</td>\n",
              "      <td>uluna@smith.net</td>\n",
              "      <td>(675)384-0611x255</td>\n",
              "      <td>2020-10-22 06:07:08</td>\n",
              "    </tr>\n",
              "    <tr>\n",
              "      <th>99</th>\n",
              "      <td>100</td>\n",
              "      <td>Patrick</td>\n",
              "      <td>Bond</td>\n",
              "      <td>daniel94@smith.net</td>\n",
              "      <td>916-323-1800x44661</td>\n",
              "      <td>2021-06-01 06:39:22</td>\n",
              "    </tr>\n",
              "  </tbody>\n",
              "</table>\n",
              "</div>"
            ],
            "text/plain": [
              "    customer_id first_name last_name                       email  \\\n",
              "90           91      Larry       Lee         dpowers@hotmail.com   \n",
              "91           92     Andrea   Jenkins     piercejohn@gonzales.com   \n",
              "92           93     Brenda   Edwards  harrisalexander@flores.com   \n",
              "93           94     Denise  Sullivan   alyssa10@vaughn-scott.com   \n",
              "94           95   Kathleen   Gardner       marilyn16@hotmail.com   \n",
              "95           96   Brittany     Lopez         ysanchez@duncan.com   \n",
              "96           97   Benjamin  Cantrell         crystal86@wells.com   \n",
              "97           98     Bailey     Jones    carrollcharles@yahoo.com   \n",
              "98           99       Adam   Perkins             uluna@smith.net   \n",
              "99          100    Patrick      Bond          daniel94@smith.net   \n",
              "\n",
              "              phone_number          created_at  \n",
              "90     +1-407-986-0333x883 2024-02-03 16:59:56  \n",
              "91           (406)192-5207 2022-07-31 01:21:22  \n",
              "92       611.937.8361x4071 2025-01-28 13:09:28  \n",
              "93         +1-434-260-4446 2021-03-24 18:42:42  \n",
              "94    001-065-411-3296x274 2023-02-13 12:28:07  \n",
              "95        149.832.9366x605 2021-07-05 15:29:03  \n",
              "96      143.924.3829x64356 2021-10-08 11:21:26  \n",
              "97  001-660-204-0662x57909 2022-12-06 18:54:50  \n",
              "98       (675)384-0611x255 2020-10-22 06:07:08  \n",
              "99      916-323-1800x44661 2021-06-01 06:39:22  "
            ]
          },
          "execution_count": 21,
          "metadata": {},
          "output_type": "execute_result"
        }
      ],
      "source": [
        "df1.tail(10)"
      ]
    },
    {
      "cell_type": "code",
      "execution_count": 22,
      "metadata": {
        "colab": {
          "base_uri": "https://localhost:8080/",
          "height": 206
        },
        "id": "KtGXIzugdZFQ",
        "outputId": "ce92b155-8be8-4b92-b0f8-25994b9a14a9"
      },
      "outputs": [
        {
          "data": {
            "text/html": [
              "<div>\n",
              "<style scoped>\n",
              "    .dataframe tbody tr th:only-of-type {\n",
              "        vertical-align: middle;\n",
              "    }\n",
              "\n",
              "    .dataframe tbody tr th {\n",
              "        vertical-align: top;\n",
              "    }\n",
              "\n",
              "    .dataframe thead th {\n",
              "        text-align: right;\n",
              "    }\n",
              "</style>\n",
              "<table border=\"1\" class=\"dataframe\">\n",
              "  <thead>\n",
              "    <tr style=\"text-align: right;\">\n",
              "      <th></th>\n",
              "      <th>product_id</th>\n",
              "      <th>product_name</th>\n",
              "      <th>category</th>\n",
              "      <th>price</th>\n",
              "      <th>stock_quantity</th>\n",
              "      <th>created_at</th>\n",
              "    </tr>\n",
              "  </thead>\n",
              "  <tbody>\n",
              "    <tr>\n",
              "      <th>0</th>\n",
              "      <td>1</td>\n",
              "      <td>Money Wear</td>\n",
              "      <td>Toys</td>\n",
              "      <td>234.12</td>\n",
              "      <td>238</td>\n",
              "      <td>2023-08-23 13:17:46</td>\n",
              "    </tr>\n",
              "    <tr>\n",
              "      <th>1</th>\n",
              "      <td>2</td>\n",
              "      <td>Remain Item</td>\n",
              "      <td>Sports</td>\n",
              "      <td>115.50</td>\n",
              "      <td>240</td>\n",
              "      <td>2024-06-17 08:50:24</td>\n",
              "    </tr>\n",
              "    <tr>\n",
              "      <th>2</th>\n",
              "      <td>3</td>\n",
              "      <td>True Gadget</td>\n",
              "      <td>Electronics</td>\n",
              "      <td>107.63</td>\n",
              "      <td>90</td>\n",
              "      <td>2025-01-15 02:58:29</td>\n",
              "    </tr>\n",
              "    <tr>\n",
              "      <th>3</th>\n",
              "      <td>4</td>\n",
              "      <td>Southern Gadget</td>\n",
              "      <td>Clothing</td>\n",
              "      <td>108.82</td>\n",
              "      <td>239</td>\n",
              "      <td>2022-05-27 14:34:01</td>\n",
              "    </tr>\n",
              "    <tr>\n",
              "      <th>4</th>\n",
              "      <td>5</td>\n",
              "      <td>Resource Wear</td>\n",
              "      <td>Clothing</td>\n",
              "      <td>103.66</td>\n",
              "      <td>423</td>\n",
              "      <td>2021-03-05 14:09:38</td>\n",
              "    </tr>\n",
              "  </tbody>\n",
              "</table>\n",
              "</div>"
            ],
            "text/plain": [
              "   product_id     product_name     category   price  stock_quantity  \\\n",
              "0           1       Money Wear         Toys  234.12             238   \n",
              "1           2      Remain Item       Sports  115.50             240   \n",
              "2           3      True Gadget  Electronics  107.63              90   \n",
              "3           4  Southern Gadget     Clothing  108.82             239   \n",
              "4           5    Resource Wear     Clothing  103.66             423   \n",
              "\n",
              "           created_at  \n",
              "0 2023-08-23 13:17:46  \n",
              "1 2024-06-17 08:50:24  \n",
              "2 2025-01-15 02:58:29  \n",
              "3 2022-05-27 14:34:01  \n",
              "4 2021-03-05 14:09:38  "
            ]
          },
          "execution_count": 22,
          "metadata": {},
          "output_type": "execute_result"
        }
      ],
      "source": [
        "df2.head()"
      ]
    },
    {
      "cell_type": "code",
      "execution_count": 23,
      "metadata": {
        "colab": {
          "base_uri": "https://localhost:8080/"
        },
        "id": "3OioTB1AaLu9",
        "outputId": "ef692f30-c440-4039-945f-73cb167697f4"
      },
      "outputs": [
        {
          "name": "stdout",
          "output_type": "stream",
          "text": [
            "<class 'pandas.core.frame.DataFrame'>\n",
            "RangeIndex: 100 entries, 0 to 99\n",
            "Data columns (total 6 columns):\n",
            " #   Column          Non-Null Count  Dtype         \n",
            "---  ------          --------------  -----         \n",
            " 0   product_id      100 non-null    int64         \n",
            " 1   product_name    100 non-null    object        \n",
            " 2   category        100 non-null    object        \n",
            " 3   price           100 non-null    float64       \n",
            " 4   stock_quantity  100 non-null    int64         \n",
            " 5   created_at      100 non-null    datetime64[ns]\n",
            "dtypes: datetime64[ns](1), float64(1), int64(2), object(2)\n",
            "memory usage: 4.8+ KB\n"
          ]
        }
      ],
      "source": [
        "df2.info()"
      ]
    },
    {
      "cell_type": "code",
      "execution_count": 63,
      "metadata": {
        "colab": {
          "base_uri": "https://localhost:8080/",
          "height": 206
        },
        "id": "BqnddKN8aLxZ",
        "outputId": "0cd9dae1-ef4a-4a03-9f6c-e468747a9186"
      },
      "outputs": [
        {
          "data": {
            "text/html": [
              "<div>\n",
              "<style scoped>\n",
              "    .dataframe tbody tr th:only-of-type {\n",
              "        vertical-align: middle;\n",
              "    }\n",
              "\n",
              "    .dataframe tbody tr th {\n",
              "        vertical-align: top;\n",
              "    }\n",
              "\n",
              "    .dataframe thead th {\n",
              "        text-align: right;\n",
              "    }\n",
              "</style>\n",
              "<table border=\"1\" class=\"dataframe\">\n",
              "  <thead>\n",
              "    <tr style=\"text-align: right;\">\n",
              "      <th></th>\n",
              "      <th>order_id</th>\n",
              "      <th>customer_id</th>\n",
              "      <th>order_date</th>\n",
              "      <th>total_amount</th>\n",
              "      <th>status</th>\n",
              "      <th>Product_id</th>\n",
              "    </tr>\n",
              "  </thead>\n",
              "  <tbody>\n",
              "    <tr>\n",
              "      <th>0</th>\n",
              "      <td>1</td>\n",
              "      <td>82</td>\n",
              "      <td>2024-01-17 19:11:33</td>\n",
              "      <td>163.94</td>\n",
              "      <td>Delivered</td>\n",
              "      <td>56</td>\n",
              "    </tr>\n",
              "    <tr>\n",
              "      <th>1</th>\n",
              "      <td>2</td>\n",
              "      <td>10</td>\n",
              "      <td>2022-05-11 02:09:15</td>\n",
              "      <td>334.71</td>\n",
              "      <td>Shipped</td>\n",
              "      <td>66</td>\n",
              "    </tr>\n",
              "    <tr>\n",
              "      <th>2</th>\n",
              "      <td>3</td>\n",
              "      <td>74</td>\n",
              "      <td>2020-05-20 20:11:19</td>\n",
              "      <td>674.77</td>\n",
              "      <td>Cancelled</td>\n",
              "      <td>6</td>\n",
              "    </tr>\n",
              "    <tr>\n",
              "      <th>3</th>\n",
              "      <td>4</td>\n",
              "      <td>22</td>\n",
              "      <td>2024-08-01 06:28:08</td>\n",
              "      <td>995.61</td>\n",
              "      <td>Delivered</td>\n",
              "      <td>48</td>\n",
              "    </tr>\n",
              "    <tr>\n",
              "      <th>4</th>\n",
              "      <td>5</td>\n",
              "      <td>19</td>\n",
              "      <td>2022-09-01 10:24:57</td>\n",
              "      <td>747.65</td>\n",
              "      <td>Shipped</td>\n",
              "      <td>35</td>\n",
              "    </tr>\n",
              "  </tbody>\n",
              "</table>\n",
              "</div>"
            ],
            "text/plain": [
              "   order_id  customer_id          order_date  total_amount     status  \\\n",
              "0         1           82 2024-01-17 19:11:33        163.94  Delivered   \n",
              "1         2           10 2022-05-11 02:09:15        334.71    Shipped   \n",
              "2         3           74 2020-05-20 20:11:19        674.77  Cancelled   \n",
              "3         4           22 2024-08-01 06:28:08        995.61  Delivered   \n",
              "4         5           19 2022-09-01 10:24:57        747.65    Shipped   \n",
              "\n",
              "   Product_id  \n",
              "0          56  \n",
              "1          66  \n",
              "2           6  \n",
              "3          48  \n",
              "4          35  "
            ]
          },
          "execution_count": 63,
          "metadata": {},
          "output_type": "execute_result"
        }
      ],
      "source": [
        "df3.head()"
      ]
    },
    {
      "cell_type": "code",
      "execution_count": 26,
      "metadata": {
        "colab": {
          "base_uri": "https://localhost:8080/"
        },
        "id": "DnujoQ_eaL0N",
        "outputId": "1d82f242-fa81-4fed-b4d8-6fe6401dafe6"
      },
      "outputs": [
        {
          "name": "stdout",
          "output_type": "stream",
          "text": [
            "<class 'pandas.core.frame.DataFrame'>\n",
            "RangeIndex: 200 entries, 0 to 199\n",
            "Data columns (total 5 columns):\n",
            " #   Column        Non-Null Count  Dtype         \n",
            "---  ------        --------------  -----         \n",
            " 0   order_id      200 non-null    int64         \n",
            " 1   customer_id   200 non-null    int64         \n",
            " 2   order_date    200 non-null    datetime64[ns]\n",
            " 3   total_amount  200 non-null    float64       \n",
            " 4   status        200 non-null    object        \n",
            "dtypes: datetime64[ns](1), float64(1), int64(2), object(1)\n",
            "memory usage: 7.9+ KB\n"
          ]
        }
      ],
      "source": [
        "df3.info()"
      ]
    },
    {
      "cell_type": "code",
      "execution_count": 27,
      "metadata": {
        "colab": {
          "base_uri": "https://localhost:8080/",
          "height": 206
        },
        "id": "bYPmqb7AaL26",
        "outputId": "7b07ce93-d42c-4e5b-f79a-72819375ddb5"
      },
      "outputs": [
        {
          "data": {
            "text/html": [
              "<div>\n",
              "<style scoped>\n",
              "    .dataframe tbody tr th:only-of-type {\n",
              "        vertical-align: middle;\n",
              "    }\n",
              "\n",
              "    .dataframe tbody tr th {\n",
              "        vertical-align: top;\n",
              "    }\n",
              "\n",
              "    .dataframe thead th {\n",
              "        text-align: right;\n",
              "    }\n",
              "</style>\n",
              "<table border=\"1\" class=\"dataframe\">\n",
              "  <thead>\n",
              "    <tr style=\"text-align: right;\">\n",
              "      <th></th>\n",
              "      <th>payment_id</th>\n",
              "      <th>order_id</th>\n",
              "      <th>payment_method</th>\n",
              "      <th>payment_status</th>\n",
              "      <th>payment_date</th>\n",
              "      <th>amount_paid</th>\n",
              "    </tr>\n",
              "  </thead>\n",
              "  <tbody>\n",
              "    <tr>\n",
              "      <th>0</th>\n",
              "      <td>1</td>\n",
              "      <td>197</td>\n",
              "      <td>PayPal</td>\n",
              "      <td>Completed</td>\n",
              "      <td>2021-08-07 05:44:03</td>\n",
              "      <td>627.38</td>\n",
              "    </tr>\n",
              "    <tr>\n",
              "      <th>1</th>\n",
              "      <td>2</td>\n",
              "      <td>173</td>\n",
              "      <td>Bank Transfer</td>\n",
              "      <td>Completed</td>\n",
              "      <td>2022-03-01 11:16:15</td>\n",
              "      <td>46.76</td>\n",
              "    </tr>\n",
              "    <tr>\n",
              "      <th>2</th>\n",
              "      <td>3</td>\n",
              "      <td>107</td>\n",
              "      <td>Debit Card</td>\n",
              "      <td>Completed</td>\n",
              "      <td>2024-02-26 18:44:29</td>\n",
              "      <td>586.88</td>\n",
              "    </tr>\n",
              "    <tr>\n",
              "      <th>3</th>\n",
              "      <td>4</td>\n",
              "      <td>185</td>\n",
              "      <td>Credit Card</td>\n",
              "      <td>Pending</td>\n",
              "      <td>2022-01-25 22:34:56</td>\n",
              "      <td>293.61</td>\n",
              "    </tr>\n",
              "    <tr>\n",
              "      <th>4</th>\n",
              "      <td>5</td>\n",
              "      <td>141</td>\n",
              "      <td>Cash On Delivery</td>\n",
              "      <td>Failed</td>\n",
              "      <td>2024-01-02 15:03:18</td>\n",
              "      <td>377.65</td>\n",
              "    </tr>\n",
              "  </tbody>\n",
              "</table>\n",
              "</div>"
            ],
            "text/plain": [
              "   payment_id  order_id    payment_method payment_status        payment_date  \\\n",
              "0           1       197            PayPal      Completed 2021-08-07 05:44:03   \n",
              "1           2       173     Bank Transfer      Completed 2022-03-01 11:16:15   \n",
              "2           3       107        Debit Card      Completed 2024-02-26 18:44:29   \n",
              "3           4       185       Credit Card        Pending 2022-01-25 22:34:56   \n",
              "4           5       141  Cash On Delivery         Failed 2024-01-02 15:03:18   \n",
              "\n",
              "   amount_paid  \n",
              "0       627.38  \n",
              "1        46.76  \n",
              "2       586.88  \n",
              "3       293.61  \n",
              "4       377.65  "
            ]
          },
          "execution_count": 27,
          "metadata": {},
          "output_type": "execute_result"
        }
      ],
      "source": [
        "df4.head()"
      ]
    },
    {
      "cell_type": "code",
      "execution_count": 28,
      "metadata": {
        "colab": {
          "base_uri": "https://localhost:8080/"
        },
        "id": "cqhHuaoOaL5z",
        "outputId": "bd7b3ba2-3742-4be8-f10d-dc575b2e576b"
      },
      "outputs": [
        {
          "name": "stdout",
          "output_type": "stream",
          "text": [
            "<class 'pandas.core.frame.DataFrame'>\n",
            "RangeIndex: 200 entries, 0 to 199\n",
            "Data columns (total 6 columns):\n",
            " #   Column          Non-Null Count  Dtype         \n",
            "---  ------          --------------  -----         \n",
            " 0   payment_id      200 non-null    int64         \n",
            " 1   order_id        200 non-null    int64         \n",
            " 2   payment_method  200 non-null    object        \n",
            " 3   payment_status  200 non-null    object        \n",
            " 4   payment_date    200 non-null    datetime64[ns]\n",
            " 5   amount_paid     200 non-null    float64       \n",
            "dtypes: datetime64[ns](1), float64(1), int64(2), object(2)\n",
            "memory usage: 9.5+ KB\n"
          ]
        }
      ],
      "source": [
        "df4.info()"
      ]
    },
    {
      "cell_type": "code",
      "execution_count": 29,
      "metadata": {
        "colab": {
          "base_uri": "https://localhost:8080/",
          "height": 112
        },
        "id": "IXKE0q6bj1z8",
        "outputId": "4441f484-3c21-48b4-b6cb-4aecc9ccef8a"
      },
      "outputs": [
        {
          "data": {
            "text/html": [
              "<div>\n",
              "<style scoped>\n",
              "    .dataframe tbody tr th:only-of-type {\n",
              "        vertical-align: middle;\n",
              "    }\n",
              "\n",
              "    .dataframe tbody tr th {\n",
              "        vertical-align: top;\n",
              "    }\n",
              "\n",
              "    .dataframe thead th {\n",
              "        text-align: right;\n",
              "    }\n",
              "</style>\n",
              "<table border=\"1\" class=\"dataframe\">\n",
              "  <thead>\n",
              "    <tr style=\"text-align: right;\">\n",
              "      <th></th>\n",
              "      <th>customer_id</th>\n",
              "      <th>first_name</th>\n",
              "      <th>last_name</th>\n",
              "      <th>email</th>\n",
              "      <th>phone_number</th>\n",
              "      <th>created_at</th>\n",
              "    </tr>\n",
              "  </thead>\n",
              "  <tbody>\n",
              "    <tr>\n",
              "      <th>0</th>\n",
              "      <td>1</td>\n",
              "      <td>Regina</td>\n",
              "      <td>Banks</td>\n",
              "      <td>kjones@petty.biz</td>\n",
              "      <td>374.831.2327x000</td>\n",
              "      <td>2022-11-20 19:15:32</td>\n",
              "    </tr>\n",
              "    <tr>\n",
              "      <th>1</th>\n",
              "      <td>2</td>\n",
              "      <td>Mark</td>\n",
              "      <td>Pena</td>\n",
              "      <td>mercedes42@warner.com</td>\n",
              "      <td>001-698-370-1197x3825</td>\n",
              "      <td>2025-02-08 03:18:03</td>\n",
              "    </tr>\n",
              "  </tbody>\n",
              "</table>\n",
              "</div>"
            ],
            "text/plain": [
              "   customer_id first_name last_name                  email  \\\n",
              "0            1     Regina     Banks       kjones@petty.biz   \n",
              "1            2       Mark      Pena  mercedes42@warner.com   \n",
              "\n",
              "            phone_number          created_at  \n",
              "0       374.831.2327x000 2022-11-20 19:15:32  \n",
              "1  001-698-370-1197x3825 2025-02-08 03:18:03  "
            ]
          },
          "execution_count": 29,
          "metadata": {},
          "output_type": "execute_result"
        }
      ],
      "source": [
        "df1.head(2)"
      ]
    },
    {
      "cell_type": "code",
      "execution_count": 30,
      "metadata": {
        "id": "_44_eAiflG8x"
      },
      "outputs": [],
      "source": [
        "df1[\"phone_number\"] = df1[\"phone_number\"].str.replace(\".\",'-')\n",
        "df1[\"phone_number\"] = df1[\"phone_number\"].str.replace('x','-')"
      ]
    },
    {
      "cell_type": "code",
      "execution_count": 31,
      "metadata": {
        "colab": {
          "base_uri": "https://localhost:8080/",
          "height": 424
        },
        "id": "ofX3Bo9blQmQ",
        "outputId": "c9985944-e4cb-41d4-b938-c2495a523059"
      },
      "outputs": [
        {
          "data": {
            "text/html": [
              "<div>\n",
              "<style scoped>\n",
              "    .dataframe tbody tr th:only-of-type {\n",
              "        vertical-align: middle;\n",
              "    }\n",
              "\n",
              "    .dataframe tbody tr th {\n",
              "        vertical-align: top;\n",
              "    }\n",
              "\n",
              "    .dataframe thead th {\n",
              "        text-align: right;\n",
              "    }\n",
              "</style>\n",
              "<table border=\"1\" class=\"dataframe\">\n",
              "  <thead>\n",
              "    <tr style=\"text-align: right;\">\n",
              "      <th></th>\n",
              "      <th>customer_id</th>\n",
              "      <th>first_name</th>\n",
              "      <th>last_name</th>\n",
              "      <th>email</th>\n",
              "      <th>phone_number</th>\n",
              "      <th>created_at</th>\n",
              "    </tr>\n",
              "  </thead>\n",
              "  <tbody>\n",
              "    <tr>\n",
              "      <th>0</th>\n",
              "      <td>1</td>\n",
              "      <td>Regina</td>\n",
              "      <td>Banks</td>\n",
              "      <td>kjones@petty.biz</td>\n",
              "      <td>374-831-2327-000</td>\n",
              "      <td>2022-11-20 19:15:32</td>\n",
              "    </tr>\n",
              "    <tr>\n",
              "      <th>1</th>\n",
              "      <td>2</td>\n",
              "      <td>Mark</td>\n",
              "      <td>Pena</td>\n",
              "      <td>mercedes42@warner.com</td>\n",
              "      <td>001-698-370-1197-3825</td>\n",
              "      <td>2025-02-08 03:18:03</td>\n",
              "    </tr>\n",
              "    <tr>\n",
              "      <th>2</th>\n",
              "      <td>3</td>\n",
              "      <td>Amanda</td>\n",
              "      <td>Carney</td>\n",
              "      <td>ricardosimmons@gmail.com</td>\n",
              "      <td>946-520-9112</td>\n",
              "      <td>2022-06-28 09:04:15</td>\n",
              "    </tr>\n",
              "    <tr>\n",
              "      <th>3</th>\n",
              "      <td>4</td>\n",
              "      <td>Brandon</td>\n",
              "      <td>Lee</td>\n",
              "      <td>kelleycharles@hotmail.com</td>\n",
              "      <td>915-139-9155-10333</td>\n",
              "      <td>2023-03-06 14:40:08</td>\n",
              "    </tr>\n",
              "    <tr>\n",
              "      <th>4</th>\n",
              "      <td>5</td>\n",
              "      <td>Theresa</td>\n",
              "      <td>Ramirez</td>\n",
              "      <td>amybrown@butler.biz</td>\n",
              "      <td>(307)514-8871-86410</td>\n",
              "      <td>2024-08-19 05:20:11</td>\n",
              "    </tr>\n",
              "    <tr>\n",
              "      <th>...</th>\n",
              "      <td>...</td>\n",
              "      <td>...</td>\n",
              "      <td>...</td>\n",
              "      <td>...</td>\n",
              "      <td>...</td>\n",
              "      <td>...</td>\n",
              "    </tr>\n",
              "    <tr>\n",
              "      <th>95</th>\n",
              "      <td>96</td>\n",
              "      <td>Brittany</td>\n",
              "      <td>Lopez</td>\n",
              "      <td>ysanchez@duncan.com</td>\n",
              "      <td>149-832-9366-605</td>\n",
              "      <td>2021-07-05 15:29:03</td>\n",
              "    </tr>\n",
              "    <tr>\n",
              "      <th>96</th>\n",
              "      <td>97</td>\n",
              "      <td>Benjamin</td>\n",
              "      <td>Cantrell</td>\n",
              "      <td>crystal86@wells.com</td>\n",
              "      <td>143-924-3829-64356</td>\n",
              "      <td>2021-10-08 11:21:26</td>\n",
              "    </tr>\n",
              "    <tr>\n",
              "      <th>97</th>\n",
              "      <td>98</td>\n",
              "      <td>Bailey</td>\n",
              "      <td>Jones</td>\n",
              "      <td>carrollcharles@yahoo.com</td>\n",
              "      <td>001-660-204-0662-57909</td>\n",
              "      <td>2022-12-06 18:54:50</td>\n",
              "    </tr>\n",
              "    <tr>\n",
              "      <th>98</th>\n",
              "      <td>99</td>\n",
              "      <td>Adam</td>\n",
              "      <td>Perkins</td>\n",
              "      <td>uluna@smith.net</td>\n",
              "      <td>(675)384-0611-255</td>\n",
              "      <td>2020-10-22 06:07:08</td>\n",
              "    </tr>\n",
              "    <tr>\n",
              "      <th>99</th>\n",
              "      <td>100</td>\n",
              "      <td>Patrick</td>\n",
              "      <td>Bond</td>\n",
              "      <td>daniel94@smith.net</td>\n",
              "      <td>916-323-1800-44661</td>\n",
              "      <td>2021-06-01 06:39:22</td>\n",
              "    </tr>\n",
              "  </tbody>\n",
              "</table>\n",
              "<p>100 rows × 6 columns</p>\n",
              "</div>"
            ],
            "text/plain": [
              "    customer_id first_name last_name                      email  \\\n",
              "0             1     Regina     Banks           kjones@petty.biz   \n",
              "1             2       Mark      Pena      mercedes42@warner.com   \n",
              "2             3     Amanda    Carney   ricardosimmons@gmail.com   \n",
              "3             4    Brandon       Lee  kelleycharles@hotmail.com   \n",
              "4             5    Theresa   Ramirez        amybrown@butler.biz   \n",
              "..          ...        ...       ...                        ...   \n",
              "95           96   Brittany     Lopez        ysanchez@duncan.com   \n",
              "96           97   Benjamin  Cantrell        crystal86@wells.com   \n",
              "97           98     Bailey     Jones   carrollcharles@yahoo.com   \n",
              "98           99       Adam   Perkins            uluna@smith.net   \n",
              "99          100    Patrick      Bond         daniel94@smith.net   \n",
              "\n",
              "              phone_number          created_at  \n",
              "0         374-831-2327-000 2022-11-20 19:15:32  \n",
              "1    001-698-370-1197-3825 2025-02-08 03:18:03  \n",
              "2             946-520-9112 2022-06-28 09:04:15  \n",
              "3       915-139-9155-10333 2023-03-06 14:40:08  \n",
              "4      (307)514-8871-86410 2024-08-19 05:20:11  \n",
              "..                     ...                 ...  \n",
              "95        149-832-9366-605 2021-07-05 15:29:03  \n",
              "96      143-924-3829-64356 2021-10-08 11:21:26  \n",
              "97  001-660-204-0662-57909 2022-12-06 18:54:50  \n",
              "98       (675)384-0611-255 2020-10-22 06:07:08  \n",
              "99      916-323-1800-44661 2021-06-01 06:39:22  \n",
              "\n",
              "[100 rows x 6 columns]"
            ]
          },
          "execution_count": 31,
          "metadata": {},
          "output_type": "execute_result"
        }
      ],
      "source": [
        "df1"
      ]
    },
    {
      "cell_type": "code",
      "execution_count": 32,
      "metadata": {
        "id": "YFFd4cEBkVGA"
      },
      "outputs": [],
      "source": [
        "import re"
      ]
    },
    {
      "cell_type": "code",
      "execution_count": 60,
      "metadata": {
        "id": "KVZEVlooj13S"
      },
      "outputs": [],
      "source": [
        "# def clean_phone(phone_number):\n",
        "#   phone_number = re.sub(r'\\d','',phone_number)"
      ]
    },
    {
      "cell_type": "code",
      "execution_count": 33,
      "metadata": {
        "colab": {
          "base_uri": "https://localhost:8080/",
          "height": 321
        },
        "id": "EmLDYlUUj195",
        "outputId": "2e3feddc-15a1-4751-affe-3fe2856674a7"
      },
      "outputs": [],
      "source": [
        "# df1[\"phone_number\"].apply(clean_phone)"
      ]
    },
    {
      "cell_type": "code",
      "execution_count": 71,
      "metadata": {
        "id": "0-kLyuKjaL8d"
      },
      "outputs": [],
      "source": [
        "from sqlalchemy import create_engine,text"
      ]
    },
    {
      "cell_type": "code",
      "execution_count": 35,
      "metadata": {
        "id": "wkgS0d_8eVic"
      },
      "outputs": [],
      "source": [
        "import urllib.parse"
      ]
    },
    {
      "cell_type": "code",
      "execution_count": 36,
      "metadata": {
        "colab": {
          "base_uri": "https://localhost:8080/"
        },
        "id": "OhRgX5Q7fZs-",
        "outputId": "76c6c2a9-df04-48c2-b6c5-d7309a424e6d"
      },
      "outputs": [
        {
          "name": "stdout",
          "output_type": "stream",
          "text": [
            "Requirement already satisfied: mysql-connector-python in c:\\users\\91814\\appdata\\local\\packages\\pythonsoftwarefoundation.python.3.11_qbz5n2kfra8p0\\localcache\\local-packages\\python311\\site-packages (9.1.0)\n",
            "Note: you may need to restart the kernel to use updated packages.\n"
          ]
        },
        {
          "name": "stderr",
          "output_type": "stream",
          "text": [
            "\n",
            "[notice] A new release of pip is available: 24.0 -> 25.0.1\n",
            "[notice] To update, run: C:\\Users\\91814\\AppData\\Local\\Microsoft\\WindowsApps\\PythonSoftwareFoundation.Python.3.11_qbz5n2kfra8p0\\python.exe -m pip install --upgrade pip\n"
          ]
        }
      ],
      "source": [
        "pip install mysql-connector-python"
      ]
    },
    {
      "cell_type": "code",
      "execution_count": 37,
      "metadata": {
        "colab": {
          "base_uri": "https://localhost:8080/"
        },
        "id": "cVPwA-Frf1MW",
        "outputId": "2e1cef44-76d0-4e00-a859-4fa3bc1de34d"
      },
      "outputs": [
        {
          "name": "stdout",
          "output_type": "stream",
          "text": [
            "Requirement already satisfied: sqlalchemy in c:\\users\\91814\\appdata\\local\\packages\\pythonsoftwarefoundation.python.3.11_qbz5n2kfra8p0\\localcache\\local-packages\\python311\\site-packages (2.0.36)\n",
            "Collecting pymysql\n",
            "  Using cached PyMySQL-1.1.1-py3-none-any.whl.metadata (4.4 kB)\n",
            "Requirement already satisfied: typing-extensions>=4.6.0 in c:\\users\\91814\\appdata\\local\\packages\\pythonsoftwarefoundation.python.3.11_qbz5n2kfra8p0\\localcache\\local-packages\\python311\\site-packages (from sqlalchemy) (4.12.2)\n",
            "Requirement already satisfied: greenlet!=0.4.17 in c:\\users\\91814\\appdata\\local\\packages\\pythonsoftwarefoundation.python.3.11_qbz5n2kfra8p0\\localcache\\local-packages\\python311\\site-packages (from sqlalchemy) (3.1.1)\n",
            "Using cached PyMySQL-1.1.1-py3-none-any.whl (44 kB)\n",
            "Installing collected packages: pymysql\n",
            "Successfully installed pymysql-1.1.1\n",
            "Note: you may need to restart the kernel to use updated packages.\n"
          ]
        },
        {
          "name": "stderr",
          "output_type": "stream",
          "text": [
            "\n",
            "[notice] A new release of pip is available: 24.0 -> 25.0.1\n",
            "[notice] To update, run: C:\\Users\\91814\\AppData\\Local\\Microsoft\\WindowsApps\\PythonSoftwareFoundation.Python.3.11_qbz5n2kfra8p0\\python.exe -m pip install --upgrade pip\n"
          ]
        }
      ],
      "source": [
        "pip install sqlalchemy pymysql"
      ]
    },
    {
      "cell_type": "code",
      "execution_count": 65,
      "metadata": {
        "id": "12p8kG6LaL_f"
      },
      "outputs": [],
      "source": [
        "username = \"root\"\n",
        "password = urllib.parse.quote_plus(\"Charan@8143\")\n",
        "host = \"127.0.0.1\"\n",
        "port = 3306\n",
        "database = \"ecommerce_db\""
      ]
    },
    {
      "cell_type": "code",
      "execution_count": 66,
      "metadata": {
        "id": "VYfwOTKVaMBq"
      },
      "outputs": [],
      "source": [
        "engine = create_engine(f\"mysql+pymysql://{username}:{password}@{host}/{database}\")"
      ]
    },
    {
      "cell_type": "code",
      "execution_count": 40,
      "metadata": {
        "colab": {
          "base_uri": "https://localhost:8080/",
          "height": 512
        },
        "id": "1xsZ6ZOwaMEc",
        "outputId": "e3bcd2df-4ee5-49df-e23f-95f3335c1a4b"
      },
      "outputs": [
        {
          "name": "stderr",
          "output_type": "stream",
          "text": [
            "C:\\Users\\91814\\AppData\\Local\\Temp\\ipykernel_20468\\3889666729.py:1: UserWarning: The provided table name 'Customers' is not found exactly as such in the database after writing the table, possibly due to case sensitivity issues. Consider using lower case table names.\n",
            "  df1.to_sql(name=\"Customers\",con=engine,if_exists=\"replace\",index=False)\n"
          ]
        },
        {
          "data": {
            "text/plain": [
              "100"
            ]
          },
          "execution_count": 40,
          "metadata": {},
          "output_type": "execute_result"
        }
      ],
      "source": [
        "df1.to_sql(name=\"Customers\",con=engine,if_exists=\"replace\",index=False)"
      ]
    },
    {
      "cell_type": "code",
      "execution_count": 41,
      "metadata": {
        "id": "T5xi2n2DaMHL"
      },
      "outputs": [
        {
          "name": "stderr",
          "output_type": "stream",
          "text": [
            "C:\\Users\\91814\\AppData\\Local\\Temp\\ipykernel_20468\\4031353785.py:1: UserWarning: The provided table name 'Products' is not found exactly as such in the database after writing the table, possibly due to case sensitivity issues. Consider using lower case table names.\n",
            "  df2.to_sql(name=\"Products\",con=engine,if_exists=\"replace\",index=False)\n"
          ]
        },
        {
          "data": {
            "text/plain": [
              "100"
            ]
          },
          "execution_count": 41,
          "metadata": {},
          "output_type": "execute_result"
        }
      ],
      "source": [
        "df2.to_sql(name=\"Products\",con=engine,if_exists=\"replace\",index=False)"
      ]
    },
    {
      "cell_type": "code",
      "execution_count": 69,
      "metadata": {
        "id": "nGglwgXfaMJZ"
      },
      "outputs": [
        {
          "name": "stderr",
          "output_type": "stream",
          "text": [
            "C:\\Users\\91814\\AppData\\Local\\Temp\\ipykernel_20468\\878697245.py:1: UserWarning: The provided table name 'Orders' is not found exactly as such in the database after writing the table, possibly due to case sensitivity issues. Consider using lower case table names.\n",
            "  df3.to_sql(name=\"Orders\",con=engine,if_exists=\"replace\",index=False)\n"
          ]
        },
        {
          "data": {
            "text/plain": [
              "200"
            ]
          },
          "execution_count": 69,
          "metadata": {},
          "output_type": "execute_result"
        }
      ],
      "source": [
        "df3.to_sql(name=\"Orders\",con=engine,if_exists=\"replace\",index=False)"
      ]
    },
    {
      "cell_type": "code",
      "execution_count": 43,
      "metadata": {
        "id": "iUiu74j0aMOo"
      },
      "outputs": [
        {
          "name": "stderr",
          "output_type": "stream",
          "text": [
            "C:\\Users\\91814\\AppData\\Local\\Temp\\ipykernel_20468\\1667165315.py:1: UserWarning: The provided table name 'Payments' is not found exactly as such in the database after writing the table, possibly due to case sensitivity issues. Consider using lower case table names.\n",
            "  df4.to_sql(name=\"Payments\",con=engine,if_exists=\"replace\",index=False)\n"
          ]
        },
        {
          "data": {
            "text/plain": [
              "200"
            ]
          },
          "execution_count": 43,
          "metadata": {},
          "output_type": "execute_result"
        }
      ],
      "source": [
        "df4.to_sql(name=\"Payments\",con=engine,if_exists=\"replace\",index=False)"
      ]
    },
    {
      "cell_type": "code",
      "execution_count": 70,
      "metadata": {
        "id": "7GMA8sBTaMRf"
      },
      "outputs": [
        {
          "name": "stdout",
          "output_type": "stream",
          "text": [
            "Collecting mysqlclientNote: you may need to restart the kernel to use updated packages.\n"
          ]
        },
        {
          "name": "stderr",
          "output_type": "stream",
          "text": [
            "\n",
            "[notice] A new release of pip is available: 24.0 -> 25.0.1\n",
            "[notice] To update, run: C:\\Users\\91814\\AppData\\Local\\Microsoft\\WindowsApps\\PythonSoftwareFoundation.Python.3.11_qbz5n2kfra8p0\\python.exe -m pip install --upgrade pip\n"
          ]
        },
        {
          "name": "stdout",
          "output_type": "stream",
          "text": [
            "\n",
            "  Downloading mysqlclient-2.2.7-cp311-cp311-win_amd64.whl.metadata (4.8 kB)\n",
            "Downloading mysqlclient-2.2.7-cp311-cp311-win_amd64.whl (207 kB)\n",
            "   ---------------------------------------- 0.0/207.7 kB ? eta -:--:--\n",
            "   - -------------------------------------- 10.2/207.7 kB ? eta -:--:--\n",
            "   ------- ------------------------------- 41.0/207.7 kB 653.6 kB/s eta 0:00:01\n",
            "   ---------------------------------------  204.8/207.7 kB 1.8 MB/s eta 0:00:01\n",
            "   ---------------------------------------- 207.7/207.7 kB 1.8 MB/s eta 0:00:00\n",
            "Installing collected packages: mysqlclient\n",
            "Successfully installed mysqlclient-2.2.7\n"
          ]
        }
      ],
      "source": [
        "pip install mysqlclient"
      ]
    },
    {
      "cell_type": "markdown",
      "metadata": {},
      "source": [
        "# Basic Query"
      ]
    },
    {
      "cell_type": "markdown",
      "metadata": {},
      "source": [
        "#1"
      ]
    },
    {
      "cell_type": "code",
      "execution_count": 75,
      "metadata": {
        "id": "__8I9D8DaMUO"
      },
      "outputs": [
        {
          "name": "stdout",
          "output_type": "stream",
          "text": [
            "Customer_id : 1 | First_name: Regina | Last_name: Banks | email : kjones@petty.biz | phone_number: 374-831-2327-000 | created_at: 2022-11-20 19:15:32 \n",
            "Customer_id : 2 | First_name: Mark | Last_name: Pena | email : mercedes42@warner.com | phone_number: 001-698-370-1197-3825 | created_at: 2025-02-08 03:18:03 \n",
            "Customer_id : 3 | First_name: Amanda | Last_name: Carney | email : ricardosimmons@gmail.com | phone_number: 946-520-9112 | created_at: 2022-06-28 09:04:15 \n",
            "Customer_id : 4 | First_name: Brandon | Last_name: Lee | email : kelleycharles@hotmail.com | phone_number: 915-139-9155-10333 | created_at: 2023-03-06 14:40:08 \n",
            "Customer_id : 5 | First_name: Theresa | Last_name: Ramirez | email : amybrown@butler.biz | phone_number: (307)514-8871-86410 | created_at: 2024-08-19 05:20:11 \n",
            "Customer_id : 6 | First_name: William | Last_name: Hayden | email : kbailey@gmail.com | phone_number: +1-421-594-8798 | created_at: 2022-09-25 20:03:32 \n",
            "Customer_id : 7 | First_name: Sarah | Last_name: Mata | email : marshdakota@gmail.com | phone_number: +1-276-218-0867-89262 | created_at: 2024-03-16 18:46:30 \n",
            "Customer_id : 8 | First_name: Chad | Last_name: Kelley | email : cynthiaramos@hotmail.com | phone_number: 001-463-061-5912-78986 | created_at: 2023-10-11 14:46:09 \n",
            "Customer_id : 9 | First_name: Kirsten | Last_name: Duran | email : haley08@yahoo.com | phone_number: (539)142-8091-8797 | created_at: 2021-04-05 09:22:27 \n",
            "Customer_id : 10 | First_name: Carla | Last_name: Young | email : csoto@yahoo.com | phone_number: +1-934-064-2110-462 | created_at: 2021-08-19 12:37:48 \n",
            "Customer_id : 11 | First_name: Linda | Last_name: Rivera | email : jbrown@goodman.com | phone_number: 556-589-5451-5831 | created_at: 2021-11-19 20:15:45 \n",
            "Customer_id : 12 | First_name: Marcia | Last_name: Hoffman | email : xmurillo@yahoo.com | phone_number: 095-837-9913 | created_at: 2023-04-14 16:58:49 \n",
            "Customer_id : 13 | First_name: Sandra | Last_name: Martinez | email : benjamingregory@green-benson.com | phone_number: (390)659-9795-87739 | created_at: 2024-01-25 15:55:22 \n",
            "Customer_id : 14 | First_name: Christian | Last_name: Thompson | email : nathanielhughes@hotmail.com | phone_number: (551)142-2216-33019 | created_at: 2021-08-28 05:36:48 \n",
            "Customer_id : 15 | First_name: Yolanda | Last_name: Smith | email : gregory05@gmail.com | phone_number: None | created_at: 2021-09-25 23:41:12 \n",
            "Customer_id : 16 | First_name: Jennifer | Last_name: Ellis | email : trodriguez@stafford.com | phone_number: 289-002-5709-0694 | created_at: 2024-01-01 06:27:46 \n",
            "Customer_id : 17 | First_name: Greg | Last_name: Patterson | email : uayala@king.org | phone_number: 019-426-6713-484 | created_at: 2020-06-25 15:34:54 \n",
            "Customer_id : 18 | First_name: Kiara | Last_name: Dean | email : grantnichole@mosley.com | phone_number: (953)712-6958-27155 | created_at: 2021-08-09 17:25:37 \n",
            "Customer_id : 19 | First_name: Robert | Last_name: Gardner | email : montgomeryelizabeth@yahoo.com | phone_number: 511-997-2755-41172 | created_at: 2021-08-17 19:34:40 \n",
            "Customer_id : 20 | First_name: Bobby | Last_name: Oliver | email : beardsylvia@kelley.com | phone_number: 795-826-0066-4663 | created_at: 2021-08-16 04:33:27 \n",
            "Customer_id : 21 | First_name: Kevin | Last_name: Bond | email : lbaxter@yahoo.com | phone_number: 541-799-8722 | created_at: 2022-11-19 17:38:04 \n",
            "Customer_id : 22 | First_name: Tammy | Last_name: Byrd | email : williamsonsabrina@hotmail.com | phone_number: (422)557-1760-202 | created_at: 2024-01-15 00:22:13 \n",
            "Customer_id : 23 | First_name: Steven | Last_name: Cooper | email : trichardson@reed.net | phone_number: 184-556-2371-1253 | created_at: 2024-02-20 20:51:27 \n",
            "Customer_id : 24 | First_name: Claire | Last_name: Johnson | email : molinacole@ross-butler.com | phone_number: 628-556-9704-917 | created_at: 2023-09-09 16:59:15 \n",
            "Customer_id : 25 | First_name: Kyle | Last_name: Ward | email : lmiller@leblanc.com | phone_number: (763)728-3334-54957 | created_at: 2021-11-26 01:38:58 \n",
            "Customer_id : 26 | First_name: Melissa | Last_name: Taylor | email : kimberlychoi@gardner.info | phone_number: 763-597-9534-2265 | created_at: 2020-03-02 07:42:47 \n",
            "Customer_id : 27 | First_name: Joann | Last_name: Chan | email : dyermalik@gmail.com | phone_number: 496-353-2505-9952 | created_at: 2023-07-09 00:49:14 \n",
            "Customer_id : 28 | First_name: Sarah | Last_name: Mack | email : wagnerjoshua@hotmail.com | phone_number: 834-449-0222 | created_at: 2024-08-10 18:00:57 \n",
            "Customer_id : 29 | First_name: Keith | Last_name: Huang | email : lamblaura@gmail.com | phone_number: 192-627-2296-88391 | created_at: 2021-10-17 09:22:58 \n",
            "Customer_id : 30 | First_name: James | Last_name: Lewis | email : gregoryburke@riddle.biz | phone_number: (084)640-3466 | created_at: 2021-09-13 11:21:30 \n",
            "Customer_id : 31 | First_name: Theresa | Last_name: Rose | email : waltersbrenda@alexander.com | phone_number: +1-524-361-7547 | created_at: 2023-05-23 00:55:59 \n",
            "Customer_id : 32 | First_name: Greg | Last_name: Moran | email : anna36@wilson-nelson.com | phone_number: +1-335-289-6708-76508 | created_at: 2022-08-14 16:22:39 \n",
            "Customer_id : 33 | First_name: Lisa | Last_name: Monroe | email : scott03@pacheco.com | phone_number: 128-021-5236-15225 | created_at: 2020-07-04 13:33:53 \n",
            "Customer_id : 34 | First_name: Monica | Last_name: Hutchinson | email : qthompson@gmail.com | phone_number: 259-333-1448-8738 | created_at: 2022-07-02 12:56:25 \n",
            "Customer_id : 35 | First_name: Tammy | Last_name: Donaldson | email : derekwilson@ford.net | phone_number: +1-576-100-8214-558 | created_at: 2024-03-23 23:06:46 \n",
            "Customer_id : 36 | First_name: John | Last_name: Webb | email : robert65@morris.biz | phone_number: 904-328-8185-798 | created_at: 2022-07-23 11:11:54 \n",
            "Customer_id : 37 | First_name: Tommy | Last_name: Carter | email : anna12@gmail.com | phone_number: 001-763-119-5457-72779 | created_at: 2022-05-07 16:23:07 \n",
            "Customer_id : 38 | First_name: Anthony | Last_name: Cooper | email : eric29@adams.com | phone_number: +1-592-359-4637-50349 | created_at: 2022-05-18 17:54:49 \n",
            "Customer_id : 39 | First_name: Maria | Last_name: Lucas | email : rivasaaron@yahoo.com | phone_number: +1-902-761-3089 | created_at: 2025-02-07 04:44:47 \n",
            "Customer_id : 40 | First_name: Stephen | Last_name: Perez | email : charles42@roberts.com | phone_number: 115-579-8539-07775 | created_at: 2020-11-02 16:22:32 \n",
            "Customer_id : 41 | First_name: Roger | Last_name: Benson | email : nicole15@yahoo.com | phone_number: 213-106-8026-68976 | created_at: 2022-02-15 21:27:34 \n",
            "Customer_id : 42 | First_name: Monica | Last_name: Ford | email : mooneykaren@yahoo.com | phone_number: 011-551-2736-980 | created_at: 2021-02-17 09:36:57 \n",
            "Customer_id : 43 | First_name: Eric | Last_name: Shannon | email : ojohnson@hotmail.com | phone_number: 001-030-722-2002-9945 | created_at: 2023-03-18 12:23:26 \n",
            "Customer_id : 44 | First_name: Chelsea | Last_name: Murray | email : gvincent@yahoo.com | phone_number: 524-944-2841 | created_at: 2024-11-26 08:19:45 \n",
            "Customer_id : 45 | First_name: Gerald | Last_name: Hernandez | email : ericgarcia@oliver-marsh.com | phone_number: 001-010-268-7718-691 | created_at: 2024-10-22 10:04:32 \n",
            "Customer_id : 46 | First_name: Sherry | Last_name: Warner | email : paulmartin@mason.com | phone_number: None | created_at: 2021-04-18 00:04:06 \n",
            "Customer_id : 47 | First_name: Yolanda | Last_name: Crawford | email : abrown@yahoo.com | phone_number: 001-346-030-0839-1958 | created_at: 2023-11-19 16:01:54 \n",
            "Customer_id : 48 | First_name: Stephanie | Last_name: Chavez | email : jjohnson@moore.com | phone_number: 045-551-9274-93255 | created_at: 2020-09-30 17:55:33 \n",
            "Customer_id : 49 | First_name: Veronica | Last_name: Williams | email : cobrien@hotmail.com | phone_number: +1-989-670-4985 | created_at: 2021-10-03 04:55:27 \n",
            "Customer_id : 50 | First_name: Connie | Last_name: Curtis | email : jennifermiranda@hotmail.com | phone_number: None | created_at: 2022-11-29 20:19:39 \n",
            "Customer_id : 51 | First_name: Scott | Last_name: Jones | email : benjaminhiggins@stewart.org | phone_number: (728)180-6959-348 | created_at: 2024-12-21 21:19:45 \n",
            "Customer_id : 52 | First_name: Edward | Last_name: Brandt | email : julia66@clark.com | phone_number: 200-043-9494 | created_at: 2020-04-04 07:53:56 \n",
            "Customer_id : 53 | First_name: Michael | Last_name: Rose | email : rosejohnny@jones.com | phone_number: None | created_at: 2021-05-29 18:35:29 \n",
            "Customer_id : 54 | First_name: Latoya | Last_name: Lopez | email : sarahknight@hotmail.com | phone_number: 697-261-2992 | created_at: 2024-10-25 16:59:46 \n",
            "Customer_id : 55 | First_name: Melissa | Last_name: Rodriguez | email : zacharyroberts@valdez.org | phone_number: 689-166-6488-926 | created_at: 2021-01-03 20:14:55 \n",
            "Customer_id : 56 | First_name: Laurie | Last_name: Clements | email : matthew29@yahoo.com | phone_number: (716)049-0731 | created_at: 2021-09-19 23:05:55 \n",
            "Customer_id : 57 | First_name: Alexander | Last_name: Wilkins | email : tara95@hotmail.com | phone_number: +1-056-057-7386 | created_at: 2023-12-30 07:06:56 \n",
            "Customer_id : 58 | First_name: Melissa | Last_name: Cruz | email : gilbertdawson@tapia.com | phone_number: 480-340-1808-84978 | created_at: 2020-04-02 15:43:18 \n",
            "Customer_id : 59 | First_name: Emily | Last_name: Garcia | email : mark05@collins-hart.org | phone_number: +1-383-799-5509-84709 | created_at: 2024-01-09 21:43:00 \n",
            "Customer_id : 60 | First_name: Andrew | Last_name: Walker | email : ybrown@chavez.com | phone_number: 203-466-9417-4777 | created_at: 2021-11-02 08:23:21 \n",
            "Customer_id : 61 | First_name: Michael | Last_name: Holder | email : phillipwebster@gmail.com | phone_number: 001-642-658-9630 | created_at: 2022-06-05 15:07:48 \n",
            "Customer_id : 62 | First_name: Chelsea | Last_name: Flores | email : daviskathryn@yahoo.com | phone_number: (395)021-2170 | created_at: 2023-04-17 21:51:24 \n",
            "Customer_id : 63 | First_name: Brian | Last_name: Wilkerson | email : janetfields@yahoo.com | phone_number: 001-103-935-9366-783 | created_at: 2020-03-16 21:23:37 \n",
            "Customer_id : 64 | First_name: Jennifer | Last_name: Smith | email : cooperheather@hotmail.com | phone_number: None | created_at: 2022-10-20 13:36:01 \n",
            "Customer_id : 65 | First_name: Henry | Last_name: Pierce | email : nathaniel97@keller.com | phone_number: +1-785-415-5062-9058 | created_at: 2024-10-28 23:19:35 \n",
            "Customer_id : 66 | First_name: Mary | Last_name: Lee | email : alyssajohnson@allen-wheeler.info | phone_number: 001-854-259-7862-12535 | created_at: 2020-12-28 19:57:08 \n",
            "Customer_id : 67 | First_name: Carl | Last_name: Andrews | email : marybird@hayden.com | phone_number: (179)915-3476-4754 | created_at: 2021-06-27 01:27:38 \n",
            "Customer_id : 68 | First_name: Fernando | Last_name: Gardner | email : james14@hotmail.com | phone_number: 041-124-5207-173 | created_at: 2021-04-13 13:24:29 \n",
            "Customer_id : 69 | First_name: Amanda | Last_name: Diaz | email : clayton51@berry-norton.com | phone_number: 719-233-9622 | created_at: 2023-02-18 05:10:37 \n",
            "Customer_id : 70 | First_name: Emily | Last_name: Rodriguez | email : christopherspence@morris.com | phone_number: 001-534-030-1109-8134 | created_at: 2024-02-04 13:28:32 \n",
            "Customer_id : 71 | First_name: Samantha | Last_name: Price | email : hodgeaudrey@gmail.com | phone_number: 232-322-3510-760 | created_at: 2020-03-05 11:22:12 \n",
            "Customer_id : 72 | First_name: Tammy | Last_name: Chavez | email : thomaskyle@orozco.com | phone_number: 001-629-480-6549 | created_at: 2020-04-15 06:05:20 \n",
            "Customer_id : 73 | First_name: Dillon | Last_name: Berg | email : chamberscarol@griffin.com | phone_number: +1-376-548-8725-133 | created_at: 2021-11-13 09:37:52 \n",
            "Customer_id : 74 | First_name: Shawn | Last_name: Brown | email : sheila54@henderson.com | phone_number: +1-332-380-7494-441 | created_at: 2021-05-05 15:15:02 \n",
            "Customer_id : 75 | First_name: Gloria | Last_name: Ferrell | email : joneschristopher@chang.com | phone_number: 158-057-4906-6646 | created_at: 2021-10-25 03:35:33 \n",
            "Customer_id : 76 | First_name: Veronica | Last_name: Maldonado | email : englishrodney@gmail.com | phone_number: (553)109-9477-8894 | created_at: 2021-10-28 07:34:58 \n",
            "Customer_id : 77 | First_name: Samuel | Last_name: Austin | email : jamiebaker@lopez-arnold.biz | phone_number: 950-637-5057-621 | created_at: 2022-08-12 19:07:32 \n",
            "Customer_id : 78 | First_name: Connie | Last_name: Love | email : lararobert@atkinson-winters.biz | phone_number: 001-480-406-9050-0839 | created_at: 2023-02-17 02:50:02 \n",
            "Customer_id : 79 | First_name: Joseph | Last_name: Myers | email : nmorris@yahoo.com | phone_number: (842)727-5588 | created_at: 2023-10-15 17:29:50 \n",
            "Customer_id : 80 | First_name: Carrie | Last_name: Hughes | email : jaimekline@hotmail.com | phone_number: 439-829-3760 | created_at: 2022-05-10 10:22:20 \n",
            "Customer_id : 81 | First_name: Christopher | Last_name: Howard | email : john25@gmail.com | phone_number: 001-461-685-1080-48876 | created_at: 2021-12-15 05:08:18 \n",
            "Customer_id : 82 | First_name: Thomas | Last_name: Steele | email : mckinneychristopher@adams.com | phone_number: None | created_at: 2021-05-13 02:55:17 \n",
            "Customer_id : 83 | First_name: Derrick | Last_name: Hansen | email : carmen20@yahoo.com | phone_number: +1-435-569-6259 | created_at: 2023-06-09 22:19:14 \n",
            "Customer_id : 84 | First_name: Gabrielle | Last_name: Curry | email : david57@hotmail.com | phone_number: 001-205-438-0008-139 | created_at: 2024-09-27 19:51:44 \n",
            "Customer_id : 85 | First_name: Jason | Last_name: Arellano | email : wgomez@hotmail.com | phone_number: +1-405-154-6716-107 | created_at: 2022-05-22 14:02:13 \n",
            "Customer_id : 86 | First_name: Glenda | Last_name: Sampson | email : darrylford@meyers-peterson.org | phone_number: (061)301-2780-04625 | created_at: 2021-04-16 12:14:36 \n",
            "Customer_id : 87 | First_name: John | Last_name: Vargas | email : michele75@faulkner.org | phone_number: 062-756-0129-045 | created_at: 2022-05-06 18:53:11 \n",
            "Customer_id : 88 | First_name: Jose | Last_name: Robinson | email : landryregina@cooper.com | phone_number: 212-225-6136-808 | created_at: 2022-09-30 07:33:02 \n",
            "Customer_id : 89 | First_name: Melissa | Last_name: Murray | email : richard15@fernandez-smith.biz | phone_number: 113-413-9311 | created_at: 2021-03-14 00:08:21 \n",
            "Customer_id : 90 | First_name: James | Last_name: Moore | email : amy36@contreras-allen.com | phone_number: 071-943-2610-2666 | created_at: 2020-02-03 16:15:09 \n",
            "Customer_id : 91 | First_name: Larry | Last_name: Lee | email : dpowers@hotmail.com | phone_number: +1-407-986-0333-883 | created_at: 2024-02-03 16:59:56 \n",
            "Customer_id : 92 | First_name: Andrea | Last_name: Jenkins | email : piercejohn@gonzales.com | phone_number: (406)192-5207 | created_at: 2022-07-31 01:21:22 \n",
            "Customer_id : 93 | First_name: Brenda | Last_name: Edwards | email : harrisalexander@flores.com | phone_number: 611-937-8361-4071 | created_at: 2025-01-28 13:09:28 \n",
            "Customer_id : 94 | First_name: Denise | Last_name: Sullivan | email : alyssa10@vaughn-scott.com | phone_number: +1-434-260-4446 | created_at: 2021-03-24 18:42:42 \n",
            "Customer_id : 95 | First_name: Kathleen | Last_name: Gardner | email : marilyn16@hotmail.com | phone_number: 001-065-411-3296-274 | created_at: 2023-02-13 12:28:07 \n",
            "Customer_id : 96 | First_name: Brittany | Last_name: Lopez | email : ysanchez@duncan.com | phone_number: 149-832-9366-605 | created_at: 2021-07-05 15:29:03 \n",
            "Customer_id : 97 | First_name: Benjamin | Last_name: Cantrell | email : crystal86@wells.com | phone_number: 143-924-3829-64356 | created_at: 2021-10-08 11:21:26 \n",
            "Customer_id : 98 | First_name: Bailey | Last_name: Jones | email : carrollcharles@yahoo.com | phone_number: 001-660-204-0662-57909 | created_at: 2022-12-06 18:54:50 \n",
            "Customer_id : 99 | First_name: Adam | Last_name: Perkins | email : uluna@smith.net | phone_number: (675)384-0611-255 | created_at: 2020-10-22 06:07:08 \n",
            "Customer_id : 100 | First_name: Patrick | Last_name: Bond | email : daniel94@smith.net | phone_number: 916-323-1800-44661 | created_at: 2021-06-01 06:39:22 \n"
          ]
        }
      ],
      "source": [
        "with engine.connect() as connection:\n",
        "    result = connection.execute(text(\"Select * From Customers\"))\n",
        "    # print(result.fetchall())\n",
        "    for i in result.fetchall():\n",
        "        print(f\"Customer_id : {i[0]} | First_name: {i[1]} | Last_name: {i[2]} | email : {i[3]} | phone_number: {i[4]} | created_at: {i[5]} \")"
      ]
    },
    {
      "cell_type": "markdown",
      "metadata": {},
      "source": [
        "#2"
      ]
    },
    {
      "cell_type": "code",
      "execution_count": 77,
      "metadata": {
        "id": "pGSOIwH-aMXD"
      },
      "outputs": [
        {
          "name": "stdout",
          "output_type": "stream",
          "text": [
            "order_id : 1 | total_amount: 163.94 | status: Delivered\n",
            "order_id : 2 | total_amount: 334.71 | status: Shipped\n",
            "order_id : 3 | total_amount: 674.77 | status: Cancelled\n",
            "order_id : 4 | total_amount: 995.61 | status: Delivered\n",
            "order_id : 5 | total_amount: 747.65 | status: Shipped\n",
            "order_id : 6 | total_amount: 183.19 | status: Pending\n",
            "order_id : 7 | total_amount: 411.78 | status: Delivered\n",
            "order_id : 8 | total_amount: 290.48 | status: Delivered\n",
            "order_id : 9 | total_amount: 853.37 | status: Delivered\n",
            "order_id : 10 | total_amount: 103.04 | status: Pending\n",
            "order_id : 11 | total_amount: 268.62 | status: Shipped\n",
            "order_id : 12 | total_amount: 120.23 | status: Cancelled\n",
            "order_id : 13 | total_amount: 199.35 | status: Delivered\n",
            "order_id : 14 | total_amount: 826.74 | status: Pending\n",
            "order_id : 15 | total_amount: 626.79 | status: Pending\n",
            "order_id : 16 | total_amount: 338.49 | status: Delivered\n",
            "order_id : 17 | total_amount: 584.62 | status: Shipped\n",
            "order_id : 18 | total_amount: 172.94 | status: Cancelled\n",
            "order_id : 19 | total_amount: 513.01 | status: Shipped\n",
            "order_id : 20 | total_amount: 941.82 | status: Shipped\n",
            "order_id : 21 | total_amount: 533.45 | status: Delivered\n",
            "order_id : 22 | total_amount: 193.79 | status: Delivered\n",
            "order_id : 23 | total_amount: 119.62 | status: Pending\n",
            "order_id : 24 | total_amount: 507.69 | status: Shipped\n",
            "order_id : 25 | total_amount: 721.21 | status: Shipped\n",
            "order_id : 26 | total_amount: 49.76 | status: Cancelled\n",
            "order_id : 27 | total_amount: 990.86 | status: Cancelled\n",
            "order_id : 28 | total_amount: 103.3 | status: Delivered\n",
            "order_id : 29 | total_amount: 404.65 | status: Pending\n",
            "order_id : 30 | total_amount: 214.58 | status: Shipped\n",
            "order_id : 31 | total_amount: 80.87 | status: Cancelled\n",
            "order_id : 32 | total_amount: 227.97 | status: Pending\n",
            "order_id : 33 | total_amount: 758.03 | status: Shipped\n",
            "order_id : 34 | total_amount: 97.31 | status: Delivered\n",
            "order_id : 35 | total_amount: 361.98 | status: Shipped\n",
            "order_id : 36 | total_amount: 62.89 | status: Pending\n",
            "order_id : 37 | total_amount: 16.18 | status: Delivered\n",
            "order_id : 38 | total_amount: 515.95 | status: Pending\n",
            "order_id : 39 | total_amount: 306.57 | status: Delivered\n",
            "order_id : 40 | total_amount: 593.82 | status: Pending\n",
            "order_id : 41 | total_amount: 795.23 | status: Cancelled\n",
            "order_id : 42 | total_amount: 595.47 | status: Shipped\n",
            "order_id : 43 | total_amount: 154.51 | status: Delivered\n",
            "order_id : 44 | total_amount: 543.05 | status: Pending\n",
            "order_id : 45 | total_amount: 49.64 | status: Delivered\n",
            "order_id : 46 | total_amount: 745.9 | status: Delivered\n",
            "order_id : 47 | total_amount: 579.53 | status: Shipped\n",
            "order_id : 48 | total_amount: 651.39 | status: Pending\n",
            "order_id : 49 | total_amount: 696.55 | status: Delivered\n",
            "order_id : 50 | total_amount: 322.28 | status: Cancelled\n",
            "order_id : 51 | total_amount: 832.91 | status: Cancelled\n",
            "order_id : 52 | total_amount: 590.2 | status: Delivered\n",
            "order_id : 53 | total_amount: 220.89 | status: Pending\n",
            "order_id : 54 | total_amount: 644.08 | status: Delivered\n",
            "order_id : 55 | total_amount: 467.97 | status: Delivered\n",
            "order_id : 56 | total_amount: 991.92 | status: Cancelled\n",
            "order_id : 57 | total_amount: 10.15 | status: Shipped\n",
            "order_id : 58 | total_amount: 725.54 | status: Shipped\n",
            "order_id : 59 | total_amount: 42.92 | status: Cancelled\n",
            "order_id : 60 | total_amount: 194.28 | status: Delivered\n",
            "order_id : 61 | total_amount: 803.64 | status: Delivered\n",
            "order_id : 62 | total_amount: 635.0 | status: Pending\n",
            "order_id : 63 | total_amount: 824.39 | status: Pending\n",
            "order_id : 64 | total_amount: 753.44 | status: Cancelled\n",
            "order_id : 65 | total_amount: 755.98 | status: Cancelled\n",
            "order_id : 66 | total_amount: 55.79 | status: Pending\n",
            "order_id : 67 | total_amount: 557.78 | status: Shipped\n",
            "order_id : 68 | total_amount: 188.96 | status: Pending\n",
            "order_id : 69 | total_amount: 855.83 | status: Pending\n",
            "order_id : 70 | total_amount: 877.0 | status: Shipped\n",
            "order_id : 71 | total_amount: 626.03 | status: Shipped\n",
            "order_id : 72 | total_amount: 490.96 | status: Shipped\n",
            "order_id : 73 | total_amount: 286.8 | status: Shipped\n",
            "order_id : 74 | total_amount: 599.59 | status: Pending\n",
            "order_id : 75 | total_amount: 167.41 | status: Delivered\n",
            "order_id : 76 | total_amount: 338.45 | status: Pending\n",
            "order_id : 77 | total_amount: 549.57 | status: Shipped\n",
            "order_id : 78 | total_amount: 717.82 | status: Delivered\n",
            "order_id : 79 | total_amount: 888.58 | status: Pending\n",
            "order_id : 80 | total_amount: 887.38 | status: Cancelled\n",
            "order_id : 81 | total_amount: 669.01 | status: Cancelled\n",
            "order_id : 82 | total_amount: 202.95 | status: Cancelled\n",
            "order_id : 83 | total_amount: 471.36 | status: Pending\n",
            "order_id : 84 | total_amount: 769.94 | status: Shipped\n",
            "order_id : 85 | total_amount: 588.13 | status: Delivered\n",
            "order_id : 86 | total_amount: 15.36 | status: Delivered\n",
            "order_id : 87 | total_amount: 479.85 | status: Delivered\n",
            "order_id : 88 | total_amount: 21.38 | status: Shipped\n",
            "order_id : 89 | total_amount: 979.59 | status: Pending\n",
            "order_id : 90 | total_amount: 486.03 | status: Shipped\n",
            "order_id : 91 | total_amount: 760.92 | status: Shipped\n",
            "order_id : 92 | total_amount: 246.43 | status: Pending\n",
            "order_id : 93 | total_amount: 823.55 | status: Delivered\n",
            "order_id : 94 | total_amount: 130.91 | status: Delivered\n",
            "order_id : 95 | total_amount: 60.06 | status: Shipped\n",
            "order_id : 96 | total_amount: 994.66 | status: Delivered\n",
            "order_id : 97 | total_amount: 196.86 | status: Delivered\n",
            "order_id : 98 | total_amount: 873.52 | status: Pending\n",
            "order_id : 99 | total_amount: 233.56 | status: Shipped\n",
            "order_id : 100 | total_amount: 775.0 | status: Delivered\n",
            "order_id : 101 | total_amount: 980.75 | status: Shipped\n",
            "order_id : 102 | total_amount: 761.21 | status: Pending\n",
            "order_id : 103 | total_amount: 745.19 | status: Pending\n",
            "order_id : 104 | total_amount: 973.59 | status: Pending\n",
            "order_id : 105 | total_amount: 43.07 | status: Cancelled\n",
            "order_id : 106 | total_amount: 467.0 | status: Cancelled\n",
            "order_id : 107 | total_amount: 595.18 | status: Cancelled\n",
            "order_id : 108 | total_amount: 913.92 | status: Shipped\n",
            "order_id : 109 | total_amount: 196.67 | status: Shipped\n",
            "order_id : 110 | total_amount: 800.08 | status: Pending\n",
            "order_id : 111 | total_amount: 989.71 | status: Delivered\n",
            "order_id : 112 | total_amount: 150.09 | status: Shipped\n",
            "order_id : 113 | total_amount: 972.73 | status: Pending\n",
            "order_id : 114 | total_amount: 993.5 | status: Pending\n",
            "order_id : 115 | total_amount: 462.63 | status: Shipped\n",
            "order_id : 116 | total_amount: 872.58 | status: Shipped\n",
            "order_id : 117 | total_amount: 410.65 | status: Shipped\n",
            "order_id : 118 | total_amount: 150.1 | status: Pending\n",
            "order_id : 119 | total_amount: 208.26 | status: Cancelled\n",
            "order_id : 120 | total_amount: 146.48 | status: Cancelled\n",
            "order_id : 121 | total_amount: 235.56 | status: Delivered\n",
            "order_id : 122 | total_amount: 903.18 | status: Pending\n",
            "order_id : 123 | total_amount: 913.81 | status: Delivered\n",
            "order_id : 124 | total_amount: 444.97 | status: Delivered\n",
            "order_id : 125 | total_amount: 293.63 | status: Cancelled\n",
            "order_id : 126 | total_amount: 511.8 | status: Cancelled\n",
            "order_id : 127 | total_amount: 277.38 | status: Shipped\n",
            "order_id : 128 | total_amount: 358.84 | status: Pending\n",
            "order_id : 129 | total_amount: 467.19 | status: Shipped\n",
            "order_id : 130 | total_amount: 388.66 | status: Pending\n",
            "order_id : 131 | total_amount: 692.94 | status: Cancelled\n",
            "order_id : 132 | total_amount: 389.99 | status: Pending\n",
            "order_id : 133 | total_amount: 499.86 | status: Pending\n",
            "order_id : 134 | total_amount: 475.97 | status: Delivered\n",
            "order_id : 135 | total_amount: 329.2 | status: Pending\n",
            "order_id : 136 | total_amount: 526.31 | status: Delivered\n",
            "order_id : 137 | total_amount: 40.65 | status: Delivered\n",
            "order_id : 138 | total_amount: 316.82 | status: Cancelled\n",
            "order_id : 139 | total_amount: 580.47 | status: Delivered\n",
            "order_id : 140 | total_amount: 370.76 | status: Pending\n",
            "order_id : 141 | total_amount: 236.26 | status: Pending\n",
            "order_id : 142 | total_amount: 47.53 | status: Cancelled\n",
            "order_id : 143 | total_amount: 664.77 | status: Pending\n",
            "order_id : 144 | total_amount: 109.67 | status: Delivered\n",
            "order_id : 145 | total_amount: 529.63 | status: Cancelled\n",
            "order_id : 146 | total_amount: 569.61 | status: Cancelled\n",
            "order_id : 147 | total_amount: 604.04 | status: Cancelled\n",
            "order_id : 148 | total_amount: 676.35 | status: Shipped\n",
            "order_id : 149 | total_amount: 450.22 | status: Shipped\n",
            "order_id : 150 | total_amount: 405.1 | status: Cancelled\n",
            "order_id : 151 | total_amount: 497.15 | status: Shipped\n",
            "order_id : 152 | total_amount: 263.12 | status: Cancelled\n",
            "order_id : 153 | total_amount: 85.07 | status: Shipped\n",
            "order_id : 154 | total_amount: 749.5 | status: Cancelled\n",
            "order_id : 155 | total_amount: 864.76 | status: Delivered\n",
            "order_id : 156 | total_amount: 876.59 | status: Cancelled\n",
            "order_id : 157 | total_amount: 703.48 | status: Delivered\n",
            "order_id : 158 | total_amount: 166.97 | status: Cancelled\n",
            "order_id : 159 | total_amount: 374.54 | status: Delivered\n",
            "order_id : 160 | total_amount: 503.02 | status: Pending\n",
            "order_id : 161 | total_amount: 879.55 | status: Pending\n",
            "order_id : 162 | total_amount: 630.53 | status: Pending\n",
            "order_id : 163 | total_amount: 458.08 | status: Shipped\n",
            "order_id : 164 | total_amount: 122.18 | status: Delivered\n",
            "order_id : 165 | total_amount: 357.56 | status: Delivered\n",
            "order_id : 166 | total_amount: 614.44 | status: Delivered\n",
            "order_id : 167 | total_amount: 559.53 | status: Pending\n",
            "order_id : 168 | total_amount: 523.15 | status: Cancelled\n",
            "order_id : 169 | total_amount: 666.77 | status: Cancelled\n",
            "order_id : 170 | total_amount: 901.36 | status: Shipped\n",
            "order_id : 171 | total_amount: 820.06 | status: Cancelled\n",
            "order_id : 172 | total_amount: 618.47 | status: Pending\n",
            "order_id : 173 | total_amount: 476.13 | status: Delivered\n",
            "order_id : 174 | total_amount: 503.47 | status: Shipped\n",
            "order_id : 175 | total_amount: 197.03 | status: Delivered\n",
            "order_id : 176 | total_amount: 134.45 | status: Shipped\n",
            "order_id : 177 | total_amount: 854.87 | status: Pending\n",
            "order_id : 178 | total_amount: 693.8 | status: Shipped\n",
            "order_id : 179 | total_amount: 494.6 | status: Delivered\n",
            "order_id : 180 | total_amount: 868.6 | status: Shipped\n",
            "order_id : 181 | total_amount: 223.01 | status: Shipped\n",
            "order_id : 182 | total_amount: 671.79 | status: Shipped\n",
            "order_id : 183 | total_amount: 391.22 | status: Delivered\n",
            "order_id : 184 | total_amount: 454.75 | status: Cancelled\n",
            "order_id : 185 | total_amount: 31.87 | status: Cancelled\n",
            "order_id : 186 | total_amount: 314.85 | status: Cancelled\n",
            "order_id : 187 | total_amount: 983.56 | status: Cancelled\n",
            "order_id : 188 | total_amount: 855.8 | status: Cancelled\n",
            "order_id : 189 | total_amount: 830.25 | status: Delivered\n",
            "order_id : 190 | total_amount: 109.66 | status: Shipped\n",
            "order_id : 191 | total_amount: 529.97 | status: Cancelled\n",
            "order_id : 192 | total_amount: 546.68 | status: Delivered\n",
            "order_id : 193 | total_amount: 227.4 | status: Delivered\n",
            "order_id : 194 | total_amount: 80.31 | status: Delivered\n",
            "order_id : 195 | total_amount: 981.0 | status: Shipped\n",
            "order_id : 196 | total_amount: 773.95 | status: Shipped\n",
            "order_id : 197 | total_amount: 871.39 | status: Cancelled\n",
            "order_id : 198 | total_amount: 712.46 | status: Shipped\n",
            "order_id : 199 | total_amount: 104.72 | status: Delivered\n",
            "order_id : 200 | total_amount: 52.29 | status: Pending\n"
          ]
        }
      ],
      "source": [
        "with engine.connect() as connection:\n",
        "    result = connection.execute(text(\"Select order_id,total_amount,status From Orders\"))\n",
        "    for i in result.fetchall():\n",
        "        print(f\"order_id : {i[0]} | total_amount: {i[1]} | status: {i[2]}\")"
      ]
    },
    {
      "cell_type": "markdown",
      "metadata": {},
      "source": [
        "#3"
      ]
    },
    {
      "cell_type": "code",
      "execution_count": 89,
      "metadata": {
        "id": "fmqqfmJQaMZc"
      },
      "outputs": [
        {
          "name": "stdout",
          "output_type": "stream",
          "text": [
            "product_id: 3 | product_name: True Gadget\n",
            "product_id: 8 | product_name: Shoulder Tool\n",
            "product_id: 12 | product_name: Out Accessory\n",
            "product_id: 24 | product_name: Break Wear\n",
            "product_id: 30 | product_name: Cell Tool\n",
            "product_id: 34 | product_name: Myself Device\n",
            "product_id: 48 | product_name: Pm Tool\n",
            "product_id: 57 | product_name: Away Wear\n",
            "product_id: 58 | product_name: Much Gadget\n",
            "product_id: 60 | product_name: Job Wear\n",
            "product_id: 71 | product_name: Several Tool\n",
            "product_id: 75 | product_name: Person Accessory\n",
            "product_id: 92 | product_name: Girl Tool\n",
            "product_id: 99 | product_name: Address Device\n"
          ]
        }
      ],
      "source": [
        "with engine.connect() as conn:\n",
        "    res = conn.execute(text(\"Select product_id,product_name From Products Where category LIKE 'Electronics'\"))\n",
        "    for i in res.fetchall():\n",
        "        print(f'product_id: {i[0]} | product_name: {i[1]}')"
      ]
    },
    {
      "cell_type": "markdown",
      "metadata": {},
      "source": [
        "#Intermediate Query"
      ]
    },
    {
      "cell_type": "markdown",
      "metadata": {},
      "source": [
        "#4"
      ]
    },
    {
      "cell_type": "code",
      "execution_count": 101,
      "metadata": {
        "id": "1wDXYUI-aMb4"
      },
      "outputs": [
        {
          "name": "stdout",
          "output_type": "stream",
          "text": [
            "customer_name : Benjamin Cantrell | Orders_Placed : 5\n",
            "customer_name : Marcia Hoffman | Orders_Placed : 5\n",
            "customer_name : Tammy Byrd | Orders_Placed : 5\n",
            "customer_name : Veronica Williams | Orders_Placed : 5\n",
            "customer_name : Greg Moran | Orders_Placed : 5\n",
            "customer_name : Joseph Myers | Orders_Placed : 5\n",
            "customer_name : Amanda Carney | Orders_Placed : 4\n",
            "customer_name : Sandra Martinez | Orders_Placed : 4\n",
            "customer_name : Latoya Lopez | Orders_Placed : 4\n",
            "customer_name : Carla Young | Orders_Placed : 4\n",
            "customer_name : Stephanie Chavez | Orders_Placed : 4\n",
            "customer_name : Andrew Walker | Orders_Placed : 4\n",
            "customer_name : Melissa Murray | Orders_Placed : 4\n",
            "customer_name : Shawn Brown | Orders_Placed : 3\n",
            "customer_name : Dillon Berg | Orders_Placed : 3\n",
            "customer_name : Emily Rodriguez | Orders_Placed : 3\n",
            "customer_name : Steven Cooper | Orders_Placed : 3\n",
            "customer_name : Mark Pena | Orders_Placed : 3\n",
            "customer_name : Brian Wilkerson | Orders_Placed : 3\n",
            "customer_name : Monica Hutchinson | Orders_Placed : 3\n",
            "customer_name : Joann Chan | Orders_Placed : 3\n",
            "customer_name : Melissa Rodriguez | Orders_Placed : 3\n",
            "customer_name : Keith Huang | Orders_Placed : 3\n",
            "customer_name : Laurie Clements | Orders_Placed : 3\n",
            "customer_name : John Webb | Orders_Placed : 3\n",
            "customer_name : Sherry Warner | Orders_Placed : 3\n",
            "customer_name : Gloria Ferrell | Orders_Placed : 3\n",
            "customer_name : Bailey Jones | Orders_Placed : 3\n",
            "customer_name : Anthony Cooper | Orders_Placed : 3\n",
            "customer_name : Jason Arellano | Orders_Placed : 3\n",
            "customer_name : Yolanda Smith | Orders_Placed : 3\n",
            "customer_name : Andrea Jenkins | Orders_Placed : 3\n",
            "customer_name : Brittany Lopez | Orders_Placed : 3\n",
            "customer_name : Henry Pierce | Orders_Placed : 3\n",
            "customer_name : Lisa Monroe | Orders_Placed : 2\n",
            "customer_name : Tammy Donaldson | Orders_Placed : 2\n",
            "customer_name : Maria Lucas | Orders_Placed : 2\n",
            "customer_name : Eric Shannon | Orders_Placed : 2\n",
            "customer_name : Yolanda Crawford | Orders_Placed : 2\n",
            "customer_name : Edward Brandt | Orders_Placed : 2\n",
            "customer_name : Michael Rose | Orders_Placed : 2\n",
            "customer_name : Jennifer Smith | Orders_Placed : 2\n",
            "customer_name : Alexander Wilkins | Orders_Placed : 2\n",
            "customer_name : Melissa Cruz | Orders_Placed : 2\n",
            "customer_name : Michael Holder | Orders_Placed : 2\n",
            "customer_name : Fernando Gardner | Orders_Placed : 2\n",
            "customer_name : Amanda Diaz | Orders_Placed : 2\n",
            "customer_name : Samantha Price | Orders_Placed : 2\n",
            "customer_name : Brandon Lee | Orders_Placed : 2\n",
            "customer_name : Theresa Ramirez | Orders_Placed : 2\n",
            "customer_name : Samuel Austin | Orders_Placed : 2\n",
            "customer_name : Chad Kelley | Orders_Placed : 2\n",
            "customer_name : Thomas Steele | Orders_Placed : 2\n",
            "customer_name : Kirsten Duran | Orders_Placed : 2\n",
            "customer_name : Glenda Sampson | Orders_Placed : 2\n",
            "customer_name : Veronica Maldonado | Orders_Placed : 2\n",
            "customer_name : Linda Rivera | Orders_Placed : 2\n",
            "customer_name : James Moore | Orders_Placed : 2\n",
            "customer_name : Jennifer Ellis | Orders_Placed : 2\n",
            "customer_name : Denise Sullivan | Orders_Placed : 2\n",
            "customer_name : Kathleen Gardner | Orders_Placed : 2\n",
            "customer_name : Sarah Mack | Orders_Placed : 2\n",
            "customer_name : James Lewis | Orders_Placed : 2\n",
            "customer_name : John Vargas | Orders_Placed : 2\n",
            "customer_name : Connie Love | Orders_Placed : 1\n",
            "customer_name : Stephen Perez | Orders_Placed : 1\n",
            "customer_name : Carrie Hughes | Orders_Placed : 1\n",
            "customer_name : Claire Johnson | Orders_Placed : 1\n",
            "customer_name : Derrick Hansen | Orders_Placed : 1\n",
            "customer_name : Gabrielle Curry | Orders_Placed : 1\n",
            "customer_name : Mary Lee | Orders_Placed : 1\n",
            "customer_name : Carl Andrews | Orders_Placed : 1\n",
            "customer_name : Chelsea Murray | Orders_Placed : 1\n",
            "customer_name : Jose Robinson | Orders_Placed : 1\n",
            "customer_name : Emily Garcia | Orders_Placed : 1\n",
            "customer_name : Kevin Bond | Orders_Placed : 1\n",
            "customer_name : Melissa Taylor | Orders_Placed : 1\n",
            "customer_name : Brenda Edwards | Orders_Placed : 1\n",
            "customer_name : Bobby Oliver | Orders_Placed : 1\n",
            "customer_name : Robert Gardner | Orders_Placed : 1\n",
            "customer_name : Scott Jones | Orders_Placed : 1\n",
            "customer_name : Chelsea Flores | Orders_Placed : 1\n",
            "customer_name : Kyle Ward | Orders_Placed : 1\n"
          ]
        }
      ],
      "source": [
        "with engine.connect() as connection:\n",
        "    result = connection.execute(text(\"Select CONCAT(c.first_name,' ',c.last_name) as customer_name,COUNT(o.order_id) as Orders_placed From Customers as c JOIN Orders as o ON c.customer_id = o.customer_id Group By customer_name Order By Orders_placed DESC\"))\n",
        "    for i in result.fetchall():\n",
        "        print(f'customer_name : {i[0]} | Orders_Placed : {i[1]}')"
      ]
    },
    {
      "cell_type": "markdown",
      "metadata": {},
      "source": [
        "#5"
      ]
    },
    {
      "cell_type": "code",
      "execution_count": 102,
      "metadata": {
        "id": "QPhkbACVaMe1"
      },
      "outputs": [],
      "source": [
        "conn = engine.connect()"
      ]
    },
    {
      "cell_type": "code",
      "execution_count": 103,
      "metadata": {
        "id": "zAY_qgzaaMhw"
      },
      "outputs": [],
      "source": [
        "q5 = '''Select CONCAT(c.first_name,\" \",c.last_name) as customer_name,o.order_id as orders,o.status as order_status\n",
        "From Customers as c\n",
        "JOIN Orders as o\n",
        "ON c.customer_id = o.customer_id'''"
      ]
    },
    {
      "cell_type": "code",
      "execution_count": 104,
      "metadata": {
        "id": "EnaG0pq8aMk7"
      },
      "outputs": [
        {
          "data": {
            "text/html": [
              "<div>\n",
              "<style scoped>\n",
              "    .dataframe tbody tr th:only-of-type {\n",
              "        vertical-align: middle;\n",
              "    }\n",
              "\n",
              "    .dataframe tbody tr th {\n",
              "        vertical-align: top;\n",
              "    }\n",
              "\n",
              "    .dataframe thead th {\n",
              "        text-align: right;\n",
              "    }\n",
              "</style>\n",
              "<table border=\"1\" class=\"dataframe\">\n",
              "  <thead>\n",
              "    <tr style=\"text-align: right;\">\n",
              "      <th></th>\n",
              "      <th>customer_name</th>\n",
              "      <th>orders</th>\n",
              "      <th>order_status</th>\n",
              "    </tr>\n",
              "  </thead>\n",
              "  <tbody>\n",
              "    <tr>\n",
              "      <th>0</th>\n",
              "      <td>Thomas Steele</td>\n",
              "      <td>1</td>\n",
              "      <td>Delivered</td>\n",
              "    </tr>\n",
              "    <tr>\n",
              "      <th>1</th>\n",
              "      <td>Carla Young</td>\n",
              "      <td>2</td>\n",
              "      <td>Shipped</td>\n",
              "    </tr>\n",
              "    <tr>\n",
              "      <th>2</th>\n",
              "      <td>Shawn Brown</td>\n",
              "      <td>3</td>\n",
              "      <td>Cancelled</td>\n",
              "    </tr>\n",
              "    <tr>\n",
              "      <th>3</th>\n",
              "      <td>Tammy Byrd</td>\n",
              "      <td>4</td>\n",
              "      <td>Delivered</td>\n",
              "    </tr>\n",
              "    <tr>\n",
              "      <th>4</th>\n",
              "      <td>Robert Gardner</td>\n",
              "      <td>5</td>\n",
              "      <td>Shipped</td>\n",
              "    </tr>\n",
              "    <tr>\n",
              "      <th>...</th>\n",
              "      <td>...</td>\n",
              "      <td>...</td>\n",
              "      <td>...</td>\n",
              "    </tr>\n",
              "    <tr>\n",
              "      <th>195</th>\n",
              "      <td>Sarah Mack</td>\n",
              "      <td>196</td>\n",
              "      <td>Shipped</td>\n",
              "    </tr>\n",
              "    <tr>\n",
              "      <th>196</th>\n",
              "      <td>Bailey Jones</td>\n",
              "      <td>197</td>\n",
              "      <td>Cancelled</td>\n",
              "    </tr>\n",
              "    <tr>\n",
              "      <th>197</th>\n",
              "      <td>John Webb</td>\n",
              "      <td>198</td>\n",
              "      <td>Shipped</td>\n",
              "    </tr>\n",
              "    <tr>\n",
              "      <th>198</th>\n",
              "      <td>Glenda Sampson</td>\n",
              "      <td>199</td>\n",
              "      <td>Delivered</td>\n",
              "    </tr>\n",
              "    <tr>\n",
              "      <th>199</th>\n",
              "      <td>Keith Huang</td>\n",
              "      <td>200</td>\n",
              "      <td>Pending</td>\n",
              "    </tr>\n",
              "  </tbody>\n",
              "</table>\n",
              "<p>200 rows × 3 columns</p>\n",
              "</div>"
            ],
            "text/plain": [
              "      customer_name  orders order_status\n",
              "0     Thomas Steele       1    Delivered\n",
              "1       Carla Young       2      Shipped\n",
              "2       Shawn Brown       3    Cancelled\n",
              "3        Tammy Byrd       4    Delivered\n",
              "4    Robert Gardner       5      Shipped\n",
              "..              ...     ...          ...\n",
              "195      Sarah Mack     196      Shipped\n",
              "196    Bailey Jones     197    Cancelled\n",
              "197       John Webb     198      Shipped\n",
              "198  Glenda Sampson     199    Delivered\n",
              "199     Keith Huang     200      Pending\n",
              "\n",
              "[200 rows x 3 columns]"
            ]
          },
          "execution_count": 104,
          "metadata": {},
          "output_type": "execute_result"
        }
      ],
      "source": [
        "pd.read_sql(q5,conn)"
      ]
    },
    {
      "cell_type": "markdown",
      "metadata": {},
      "source": [
        "#6"
      ]
    },
    {
      "cell_type": "code",
      "execution_count": 105,
      "metadata": {
        "id": "KIrzbqDzaMoD"
      },
      "outputs": [],
      "source": [
        "q6 = ''' Select ROUND(SUM(total_amount)) as total_revenue From orders'''"
      ]
    },
    {
      "cell_type": "code",
      "execution_count": 106,
      "metadata": {
        "id": "XWqhZIXTaMrC"
      },
      "outputs": [
        {
          "data": {
            "text/html": [
              "<div>\n",
              "<style scoped>\n",
              "    .dataframe tbody tr th:only-of-type {\n",
              "        vertical-align: middle;\n",
              "    }\n",
              "\n",
              "    .dataframe tbody tr th {\n",
              "        vertical-align: top;\n",
              "    }\n",
              "\n",
              "    .dataframe thead th {\n",
              "        text-align: right;\n",
              "    }\n",
              "</style>\n",
              "<table border=\"1\" class=\"dataframe\">\n",
              "  <thead>\n",
              "    <tr style=\"text-align: right;\">\n",
              "      <th></th>\n",
              "      <th>total_revenue</th>\n",
              "    </tr>\n",
              "  </thead>\n",
              "  <tbody>\n",
              "    <tr>\n",
              "      <th>0</th>\n",
              "      <td>99056.0</td>\n",
              "    </tr>\n",
              "  </tbody>\n",
              "</table>\n",
              "</div>"
            ],
            "text/plain": [
              "   total_revenue\n",
              "0        99056.0"
            ]
          },
          "execution_count": 106,
          "metadata": {},
          "output_type": "execute_result"
        }
      ],
      "source": [
        "pd.read_sql(q6,conn)"
      ]
    },
    {
      "cell_type": "markdown",
      "metadata": {},
      "source": [
        "#7"
      ]
    },
    {
      "cell_type": "code",
      "execution_count": 107,
      "metadata": {
        "id": "0Lw5vb7gaMuJ"
      },
      "outputs": [],
      "source": [
        "q7 = ''' Select CONCAT(c.first_name,\" \",c.last_name) as customer_name,COUNT(o.order_id) as Orders_placed\n",
        "From Customers as c\n",
        "JOIN Orders as o\n",
        "ON c.customer_id = o.customer_id\n",
        "Group By customer_name\n",
        "Having Orders_placed > 3\n",
        "Order By Orders_placed DESC'''"
      ]
    },
    {
      "cell_type": "code",
      "execution_count": 108,
      "metadata": {},
      "outputs": [
        {
          "data": {
            "text/html": [
              "<div>\n",
              "<style scoped>\n",
              "    .dataframe tbody tr th:only-of-type {\n",
              "        vertical-align: middle;\n",
              "    }\n",
              "\n",
              "    .dataframe tbody tr th {\n",
              "        vertical-align: top;\n",
              "    }\n",
              "\n",
              "    .dataframe thead th {\n",
              "        text-align: right;\n",
              "    }\n",
              "</style>\n",
              "<table border=\"1\" class=\"dataframe\">\n",
              "  <thead>\n",
              "    <tr style=\"text-align: right;\">\n",
              "      <th></th>\n",
              "      <th>customer_name</th>\n",
              "      <th>Orders_placed</th>\n",
              "    </tr>\n",
              "  </thead>\n",
              "  <tbody>\n",
              "    <tr>\n",
              "      <th>0</th>\n",
              "      <td>Marcia Hoffman</td>\n",
              "      <td>5</td>\n",
              "    </tr>\n",
              "    <tr>\n",
              "      <th>1</th>\n",
              "      <td>Tammy Byrd</td>\n",
              "      <td>5</td>\n",
              "    </tr>\n",
              "    <tr>\n",
              "      <th>2</th>\n",
              "      <td>Greg Moran</td>\n",
              "      <td>5</td>\n",
              "    </tr>\n",
              "    <tr>\n",
              "      <th>3</th>\n",
              "      <td>Veronica Williams</td>\n",
              "      <td>5</td>\n",
              "    </tr>\n",
              "    <tr>\n",
              "      <th>4</th>\n",
              "      <td>Joseph Myers</td>\n",
              "      <td>5</td>\n",
              "    </tr>\n",
              "    <tr>\n",
              "      <th>5</th>\n",
              "      <td>Benjamin Cantrell</td>\n",
              "      <td>5</td>\n",
              "    </tr>\n",
              "    <tr>\n",
              "      <th>6</th>\n",
              "      <td>Amanda Carney</td>\n",
              "      <td>4</td>\n",
              "    </tr>\n",
              "    <tr>\n",
              "      <th>7</th>\n",
              "      <td>Carla Young</td>\n",
              "      <td>4</td>\n",
              "    </tr>\n",
              "    <tr>\n",
              "      <th>8</th>\n",
              "      <td>Sandra Martinez</td>\n",
              "      <td>4</td>\n",
              "    </tr>\n",
              "    <tr>\n",
              "      <th>9</th>\n",
              "      <td>Stephanie Chavez</td>\n",
              "      <td>4</td>\n",
              "    </tr>\n",
              "    <tr>\n",
              "      <th>10</th>\n",
              "      <td>Latoya Lopez</td>\n",
              "      <td>4</td>\n",
              "    </tr>\n",
              "    <tr>\n",
              "      <th>11</th>\n",
              "      <td>Andrew Walker</td>\n",
              "      <td>4</td>\n",
              "    </tr>\n",
              "    <tr>\n",
              "      <th>12</th>\n",
              "      <td>Melissa Murray</td>\n",
              "      <td>4</td>\n",
              "    </tr>\n",
              "  </tbody>\n",
              "</table>\n",
              "</div>"
            ],
            "text/plain": [
              "        customer_name  Orders_placed\n",
              "0      Marcia Hoffman              5\n",
              "1          Tammy Byrd              5\n",
              "2          Greg Moran              5\n",
              "3   Veronica Williams              5\n",
              "4        Joseph Myers              5\n",
              "5   Benjamin Cantrell              5\n",
              "6       Amanda Carney              4\n",
              "7         Carla Young              4\n",
              "8     Sandra Martinez              4\n",
              "9    Stephanie Chavez              4\n",
              "10       Latoya Lopez              4\n",
              "11      Andrew Walker              4\n",
              "12     Melissa Murray              4"
            ]
          },
          "execution_count": 108,
          "metadata": {},
          "output_type": "execute_result"
        }
      ],
      "source": [
        "pd.read_sql(q7,conn)"
      ]
    },
    {
      "cell_type": "markdown",
      "metadata": {},
      "source": [
        "#8"
      ]
    },
    {
      "cell_type": "code",
      "execution_count": 109,
      "metadata": {
        "id": "uYJCncSpaMxq"
      },
      "outputs": [],
      "source": [
        "q8 = '''Select order_id,customer_id,order_date,total_amount From Orders\n",
        "Where order_id IN (Select order_id From Payments Where payment_status = \"Completed\")'''"
      ]
    },
    {
      "cell_type": "code",
      "execution_count": 110,
      "metadata": {},
      "outputs": [
        {
          "data": {
            "text/html": [
              "<div>\n",
              "<style scoped>\n",
              "    .dataframe tbody tr th:only-of-type {\n",
              "        vertical-align: middle;\n",
              "    }\n",
              "\n",
              "    .dataframe tbody tr th {\n",
              "        vertical-align: top;\n",
              "    }\n",
              "\n",
              "    .dataframe thead th {\n",
              "        text-align: right;\n",
              "    }\n",
              "</style>\n",
              "<table border=\"1\" class=\"dataframe\">\n",
              "  <thead>\n",
              "    <tr style=\"text-align: right;\">\n",
              "      <th></th>\n",
              "      <th>order_id</th>\n",
              "      <th>customer_id</th>\n",
              "      <th>order_date</th>\n",
              "      <th>total_amount</th>\n",
              "    </tr>\n",
              "  </thead>\n",
              "  <tbody>\n",
              "    <tr>\n",
              "      <th>0</th>\n",
              "      <td>197</td>\n",
              "      <td>98</td>\n",
              "      <td>2022-08-07 21:36:46</td>\n",
              "      <td>871.39</td>\n",
              "    </tr>\n",
              "    <tr>\n",
              "      <th>1</th>\n",
              "      <td>173</td>\n",
              "      <td>70</td>\n",
              "      <td>2021-09-04 19:53:14</td>\n",
              "      <td>476.13</td>\n",
              "    </tr>\n",
              "    <tr>\n",
              "      <th>2</th>\n",
              "      <td>107</td>\n",
              "      <td>5</td>\n",
              "      <td>2020-04-06 18:55:27</td>\n",
              "      <td>595.18</td>\n",
              "    </tr>\n",
              "    <tr>\n",
              "      <th>3</th>\n",
              "      <td>43</td>\n",
              "      <td>2</td>\n",
              "      <td>2020-09-11 12:37:42</td>\n",
              "      <td>154.51</td>\n",
              "    </tr>\n",
              "    <tr>\n",
              "      <th>4</th>\n",
              "      <td>126</td>\n",
              "      <td>83</td>\n",
              "      <td>2020-06-08 05:59:01</td>\n",
              "      <td>511.80</td>\n",
              "    </tr>\n",
              "    <tr>\n",
              "      <th>5</th>\n",
              "      <td>181</td>\n",
              "      <td>87</td>\n",
              "      <td>2021-12-22 04:33:53</td>\n",
              "      <td>223.01</td>\n",
              "    </tr>\n",
              "    <tr>\n",
              "      <th>6</th>\n",
              "      <td>183</td>\n",
              "      <td>13</td>\n",
              "      <td>2022-08-09 08:13:57</td>\n",
              "      <td>391.22</td>\n",
              "    </tr>\n",
              "    <tr>\n",
              "      <th>7</th>\n",
              "      <td>12</td>\n",
              "      <td>48</td>\n",
              "      <td>2020-11-02 04:56:48</td>\n",
              "      <td>120.23</td>\n",
              "    </tr>\n",
              "    <tr>\n",
              "      <th>8</th>\n",
              "      <td>95</td>\n",
              "      <td>49</td>\n",
              "      <td>2021-07-09 06:18:44</td>\n",
              "      <td>60.06</td>\n",
              "    </tr>\n",
              "    <tr>\n",
              "      <th>9</th>\n",
              "      <td>22</td>\n",
              "      <td>44</td>\n",
              "      <td>2021-11-25 17:50:02</td>\n",
              "      <td>193.79</td>\n",
              "    </tr>\n",
              "    <tr>\n",
              "      <th>10</th>\n",
              "      <td>119</td>\n",
              "      <td>53</td>\n",
              "      <td>2021-10-01 08:02:53</td>\n",
              "      <td>208.26</td>\n",
              "    </tr>\n",
              "    <tr>\n",
              "      <th>11</th>\n",
              "      <td>152</td>\n",
              "      <td>15</td>\n",
              "      <td>2020-10-28 06:28:01</td>\n",
              "      <td>263.12</td>\n",
              "    </tr>\n",
              "    <tr>\n",
              "      <th>12</th>\n",
              "      <td>8</td>\n",
              "      <td>92</td>\n",
              "      <td>2022-01-20 04:49:40</td>\n",
              "      <td>290.48</td>\n",
              "    </tr>\n",
              "    <tr>\n",
              "      <th>13</th>\n",
              "      <td>24</td>\n",
              "      <td>32</td>\n",
              "      <td>2023-06-15 10:05:14</td>\n",
              "      <td>507.69</td>\n",
              "    </tr>\n",
              "    <tr>\n",
              "      <th>14</th>\n",
              "      <td>91</td>\n",
              "      <td>30</td>\n",
              "      <td>2021-02-07 18:14:01</td>\n",
              "      <td>760.92</td>\n",
              "    </tr>\n",
              "    <tr>\n",
              "      <th>15</th>\n",
              "      <td>13</td>\n",
              "      <td>46</td>\n",
              "      <td>2020-09-09 18:51:47</td>\n",
              "      <td>199.35</td>\n",
              "    </tr>\n",
              "    <tr>\n",
              "      <th>16</th>\n",
              "      <td>178</td>\n",
              "      <td>10</td>\n",
              "      <td>2020-05-15 18:31:06</td>\n",
              "      <td>693.80</td>\n",
              "    </tr>\n",
              "    <tr>\n",
              "      <th>17</th>\n",
              "      <td>149</td>\n",
              "      <td>53</td>\n",
              "      <td>2023-10-08 19:59:42</td>\n",
              "      <td>450.22</td>\n",
              "    </tr>\n",
              "    <tr>\n",
              "      <th>18</th>\n",
              "      <td>85</td>\n",
              "      <td>33</td>\n",
              "      <td>2024-03-14 10:55:23</td>\n",
              "      <td>588.13</td>\n",
              "    </tr>\n",
              "    <tr>\n",
              "      <th>19</th>\n",
              "      <td>66</td>\n",
              "      <td>13</td>\n",
              "      <td>2021-03-04 05:59:54</td>\n",
              "      <td>55.79</td>\n",
              "    </tr>\n",
              "    <tr>\n",
              "      <th>20</th>\n",
              "      <td>48</td>\n",
              "      <td>79</td>\n",
              "      <td>2021-04-02 18:16:52</td>\n",
              "      <td>651.39</td>\n",
              "    </tr>\n",
              "    <tr>\n",
              "      <th>21</th>\n",
              "      <td>108</td>\n",
              "      <td>13</td>\n",
              "      <td>2022-06-02 07:21:10</td>\n",
              "      <td>913.92</td>\n",
              "    </tr>\n",
              "    <tr>\n",
              "      <th>22</th>\n",
              "      <td>196</td>\n",
              "      <td>28</td>\n",
              "      <td>2024-02-17 10:04:28</td>\n",
              "      <td>773.95</td>\n",
              "    </tr>\n",
              "    <tr>\n",
              "      <th>23</th>\n",
              "      <td>144</td>\n",
              "      <td>46</td>\n",
              "      <td>2022-02-08 15:07:41</td>\n",
              "      <td>109.67</td>\n",
              "    </tr>\n",
              "    <tr>\n",
              "      <th>24</th>\n",
              "      <td>6</td>\n",
              "      <td>68</td>\n",
              "      <td>2024-08-30 22:33:21</td>\n",
              "      <td>183.19</td>\n",
              "    </tr>\n",
              "    <tr>\n",
              "      <th>25</th>\n",
              "      <td>7</td>\n",
              "      <td>96</td>\n",
              "      <td>2021-05-10 03:40:06</td>\n",
              "      <td>411.78</td>\n",
              "    </tr>\n",
              "    <tr>\n",
              "      <th>26</th>\n",
              "      <td>4</td>\n",
              "      <td>22</td>\n",
              "      <td>2024-08-01 06:28:08</td>\n",
              "      <td>995.61</td>\n",
              "    </tr>\n",
              "    <tr>\n",
              "      <th>27</th>\n",
              "      <td>104</td>\n",
              "      <td>69</td>\n",
              "      <td>2020-12-22 10:05:03</td>\n",
              "      <td>973.59</td>\n",
              "    </tr>\n",
              "    <tr>\n",
              "      <th>28</th>\n",
              "      <td>100</td>\n",
              "      <td>89</td>\n",
              "      <td>2023-01-13 23:28:34</td>\n",
              "      <td>775.00</td>\n",
              "    </tr>\n",
              "    <tr>\n",
              "      <th>29</th>\n",
              "      <td>115</td>\n",
              "      <td>79</td>\n",
              "      <td>2021-06-25 14:57:50</td>\n",
              "      <td>462.63</td>\n",
              "    </tr>\n",
              "    <tr>\n",
              "      <th>30</th>\n",
              "      <td>36</td>\n",
              "      <td>73</td>\n",
              "      <td>2021-06-21 03:34:20</td>\n",
              "      <td>62.89</td>\n",
              "    </tr>\n",
              "    <tr>\n",
              "      <th>31</th>\n",
              "      <td>164</td>\n",
              "      <td>54</td>\n",
              "      <td>2022-03-22 03:04:51</td>\n",
              "      <td>122.18</td>\n",
              "    </tr>\n",
              "    <tr>\n",
              "      <th>32</th>\n",
              "      <td>19</td>\n",
              "      <td>4</td>\n",
              "      <td>2022-12-30 02:33:35</td>\n",
              "      <td>513.01</td>\n",
              "    </tr>\n",
              "    <tr>\n",
              "      <th>33</th>\n",
              "      <td>188</td>\n",
              "      <td>49</td>\n",
              "      <td>2021-02-27 18:26:28</td>\n",
              "      <td>855.80</td>\n",
              "    </tr>\n",
              "    <tr>\n",
              "      <th>34</th>\n",
              "      <td>123</td>\n",
              "      <td>85</td>\n",
              "      <td>2020-08-22 02:56:40</td>\n",
              "      <td>913.81</td>\n",
              "    </tr>\n",
              "    <tr>\n",
              "      <th>35</th>\n",
              "      <td>98</td>\n",
              "      <td>97</td>\n",
              "      <td>2021-04-13 07:27:40</td>\n",
              "      <td>873.52</td>\n",
              "    </tr>\n",
              "    <tr>\n",
              "      <th>36</th>\n",
              "      <td>102</td>\n",
              "      <td>94</td>\n",
              "      <td>2024-09-13 11:45:07</td>\n",
              "      <td>761.21</td>\n",
              "    </tr>\n",
              "    <tr>\n",
              "      <th>37</th>\n",
              "      <td>146</td>\n",
              "      <td>21</td>\n",
              "      <td>2024-03-21 20:43:53</td>\n",
              "      <td>569.61</td>\n",
              "    </tr>\n",
              "    <tr>\n",
              "      <th>38</th>\n",
              "      <td>140</td>\n",
              "      <td>55</td>\n",
              "      <td>2023-12-24 09:42:24</td>\n",
              "      <td>370.76</td>\n",
              "    </tr>\n",
              "    <tr>\n",
              "      <th>39</th>\n",
              "      <td>2</td>\n",
              "      <td>10</td>\n",
              "      <td>2022-05-11 02:09:15</td>\n",
              "      <td>334.71</td>\n",
              "    </tr>\n",
              "    <tr>\n",
              "      <th>40</th>\n",
              "      <td>136</td>\n",
              "      <td>27</td>\n",
              "      <td>2022-07-16 12:28:46</td>\n",
              "      <td>526.31</td>\n",
              "    </tr>\n",
              "    <tr>\n",
              "      <th>41</th>\n",
              "      <td>195</td>\n",
              "      <td>9</td>\n",
              "      <td>2020-12-13 16:16:22</td>\n",
              "      <td>981.00</td>\n",
              "    </tr>\n",
              "    <tr>\n",
              "      <th>42</th>\n",
              "      <td>192</td>\n",
              "      <td>43</td>\n",
              "      <td>2020-10-29 15:29:48</td>\n",
              "      <td>546.68</td>\n",
              "    </tr>\n",
              "    <tr>\n",
              "      <th>43</th>\n",
              "      <td>46</td>\n",
              "      <td>47</td>\n",
              "      <td>2022-11-24 07:28:52</td>\n",
              "      <td>745.90</td>\n",
              "    </tr>\n",
              "    <tr>\n",
              "      <th>44</th>\n",
              "      <td>114</td>\n",
              "      <td>66</td>\n",
              "      <td>2024-10-17 15:34:20</td>\n",
              "      <td>993.50</td>\n",
              "    </tr>\n",
              "    <tr>\n",
              "      <th>45</th>\n",
              "      <td>94</td>\n",
              "      <td>60</td>\n",
              "      <td>2020-02-01 13:59:13</td>\n",
              "      <td>130.91</td>\n",
              "    </tr>\n",
              "    <tr>\n",
              "      <th>46</th>\n",
              "      <td>190</td>\n",
              "      <td>94</td>\n",
              "      <td>2022-04-16 00:26:24</td>\n",
              "      <td>109.66</td>\n",
              "    </tr>\n",
              "  </tbody>\n",
              "</table>\n",
              "</div>"
            ],
            "text/plain": [
              "    order_id  customer_id          order_date  total_amount\n",
              "0        197           98 2022-08-07 21:36:46        871.39\n",
              "1        173           70 2021-09-04 19:53:14        476.13\n",
              "2        107            5 2020-04-06 18:55:27        595.18\n",
              "3         43            2 2020-09-11 12:37:42        154.51\n",
              "4        126           83 2020-06-08 05:59:01        511.80\n",
              "5        181           87 2021-12-22 04:33:53        223.01\n",
              "6        183           13 2022-08-09 08:13:57        391.22\n",
              "7         12           48 2020-11-02 04:56:48        120.23\n",
              "8         95           49 2021-07-09 06:18:44         60.06\n",
              "9         22           44 2021-11-25 17:50:02        193.79\n",
              "10       119           53 2021-10-01 08:02:53        208.26\n",
              "11       152           15 2020-10-28 06:28:01        263.12\n",
              "12         8           92 2022-01-20 04:49:40        290.48\n",
              "13        24           32 2023-06-15 10:05:14        507.69\n",
              "14        91           30 2021-02-07 18:14:01        760.92\n",
              "15        13           46 2020-09-09 18:51:47        199.35\n",
              "16       178           10 2020-05-15 18:31:06        693.80\n",
              "17       149           53 2023-10-08 19:59:42        450.22\n",
              "18        85           33 2024-03-14 10:55:23        588.13\n",
              "19        66           13 2021-03-04 05:59:54         55.79\n",
              "20        48           79 2021-04-02 18:16:52        651.39\n",
              "21       108           13 2022-06-02 07:21:10        913.92\n",
              "22       196           28 2024-02-17 10:04:28        773.95\n",
              "23       144           46 2022-02-08 15:07:41        109.67\n",
              "24         6           68 2024-08-30 22:33:21        183.19\n",
              "25         7           96 2021-05-10 03:40:06        411.78\n",
              "26         4           22 2024-08-01 06:28:08        995.61\n",
              "27       104           69 2020-12-22 10:05:03        973.59\n",
              "28       100           89 2023-01-13 23:28:34        775.00\n",
              "29       115           79 2021-06-25 14:57:50        462.63\n",
              "30        36           73 2021-06-21 03:34:20         62.89\n",
              "31       164           54 2022-03-22 03:04:51        122.18\n",
              "32        19            4 2022-12-30 02:33:35        513.01\n",
              "33       188           49 2021-02-27 18:26:28        855.80\n",
              "34       123           85 2020-08-22 02:56:40        913.81\n",
              "35        98           97 2021-04-13 07:27:40        873.52\n",
              "36       102           94 2024-09-13 11:45:07        761.21\n",
              "37       146           21 2024-03-21 20:43:53        569.61\n",
              "38       140           55 2023-12-24 09:42:24        370.76\n",
              "39         2           10 2022-05-11 02:09:15        334.71\n",
              "40       136           27 2022-07-16 12:28:46        526.31\n",
              "41       195            9 2020-12-13 16:16:22        981.00\n",
              "42       192           43 2020-10-29 15:29:48        546.68\n",
              "43        46           47 2022-11-24 07:28:52        745.90\n",
              "44       114           66 2024-10-17 15:34:20        993.50\n",
              "45        94           60 2020-02-01 13:59:13        130.91\n",
              "46       190           94 2022-04-16 00:26:24        109.66"
            ]
          },
          "execution_count": 110,
          "metadata": {},
          "output_type": "execute_result"
        }
      ],
      "source": [
        "pd.read_sql(q8,conn)"
      ]
    },
    {
      "cell_type": "markdown",
      "metadata": {},
      "source": [
        "# Advanced Queries"
      ]
    },
    {
      "cell_type": "markdown",
      "metadata": {},
      "source": [
        "#9"
      ]
    },
    {
      "cell_type": "code",
      "execution_count": 111,
      "metadata": {
        "id": "E25oO0HQaM21"
      },
      "outputs": [],
      "source": [
        "q9 = ''' Select CONCAT(c.first_name,\" \",c.last_name) as customer_name,ROUND(SUM(o.total_amount)) as Amount_Spent\n",
        "From Customers as c\n",
        "JOIN Orders as o\n",
        "ON c.customer_id = o.customer_id\n",
        "Group By customer_name\n",
        "Order BY Amount_Spent desc\n",
        "LIMIT 5'''"
      ]
    },
    {
      "cell_type": "code",
      "execution_count": 113,
      "metadata": {
        "id": "bpzBvmzfaM5p"
      },
      "outputs": [
        {
          "data": {
            "text/html": [
              "<div>\n",
              "<style scoped>\n",
              "    .dataframe tbody tr th:only-of-type {\n",
              "        vertical-align: middle;\n",
              "    }\n",
              "\n",
              "    .dataframe tbody tr th {\n",
              "        vertical-align: top;\n",
              "    }\n",
              "\n",
              "    .dataframe thead th {\n",
              "        text-align: right;\n",
              "    }\n",
              "</style>\n",
              "<table border=\"1\" class=\"dataframe\">\n",
              "  <thead>\n",
              "    <tr style=\"text-align: right;\">\n",
              "      <th></th>\n",
              "      <th>customer_name</th>\n",
              "      <th>Amount_Spent</th>\n",
              "    </tr>\n",
              "  </thead>\n",
              "  <tbody>\n",
              "    <tr>\n",
              "      <th>0</th>\n",
              "      <td>Marcia Hoffman</td>\n",
              "      <td>3336.0</td>\n",
              "    </tr>\n",
              "    <tr>\n",
              "      <th>1</th>\n",
              "      <td>Tammy Byrd</td>\n",
              "      <td>3323.0</td>\n",
              "    </tr>\n",
              "    <tr>\n",
              "      <th>2</th>\n",
              "      <td>Benjamin Cantrell</td>\n",
              "      <td>3153.0</td>\n",
              "    </tr>\n",
              "    <tr>\n",
              "      <th>3</th>\n",
              "      <td>Carla Young</td>\n",
              "      <td>2558.0</td>\n",
              "    </tr>\n",
              "    <tr>\n",
              "      <th>4</th>\n",
              "      <td>Veronica Williams</td>\n",
              "      <td>2555.0</td>\n",
              "    </tr>\n",
              "  </tbody>\n",
              "</table>\n",
              "</div>"
            ],
            "text/plain": [
              "       customer_name  Amount_Spent\n",
              "0     Marcia Hoffman        3336.0\n",
              "1         Tammy Byrd        3323.0\n",
              "2  Benjamin Cantrell        3153.0\n",
              "3        Carla Young        2558.0\n",
              "4  Veronica Williams        2555.0"
            ]
          },
          "execution_count": 113,
          "metadata": {},
          "output_type": "execute_result"
        }
      ],
      "source": [
        "pd.read_sql(q9,conn)"
      ]
    },
    {
      "cell_type": "markdown",
      "metadata": {},
      "source": [
        "#10"
      ]
    },
    {
      "cell_type": "code",
      "execution_count": 114,
      "metadata": {
        "id": "rGCWMmZ4aM8U"
      },
      "outputs": [],
      "source": [
        "q10 = ''' Select o.order_id,o.order_date From orders as o\n",
        "JOIN payments as p\n",
        "ON o.order_id = p.order_id\n",
        "Where p.payment_status LIKE \"Failed\" or p.payment_status LIKE \"Pending\"'''"
      ]
    },
    {
      "cell_type": "code",
      "execution_count": 115,
      "metadata": {
        "id": "X68dy5WQaM_I"
      },
      "outputs": [
        {
          "data": {
            "text/html": [
              "<div>\n",
              "<style scoped>\n",
              "    .dataframe tbody tr th:only-of-type {\n",
              "        vertical-align: middle;\n",
              "    }\n",
              "\n",
              "    .dataframe tbody tr th {\n",
              "        vertical-align: top;\n",
              "    }\n",
              "\n",
              "    .dataframe thead th {\n",
              "        text-align: right;\n",
              "    }\n",
              "</style>\n",
              "<table border=\"1\" class=\"dataframe\">\n",
              "  <thead>\n",
              "    <tr style=\"text-align: right;\">\n",
              "      <th></th>\n",
              "      <th>order_id</th>\n",
              "      <th>order_date</th>\n",
              "    </tr>\n",
              "  </thead>\n",
              "  <tbody>\n",
              "    <tr>\n",
              "      <th>0</th>\n",
              "      <td>185</td>\n",
              "      <td>2020-09-17 08:28:41</td>\n",
              "    </tr>\n",
              "    <tr>\n",
              "      <th>1</th>\n",
              "      <td>141</td>\n",
              "      <td>2023-10-30 19:54:54</td>\n",
              "    </tr>\n",
              "    <tr>\n",
              "      <th>2</th>\n",
              "      <td>70</td>\n",
              "      <td>2024-07-09 08:22:36</td>\n",
              "    </tr>\n",
              "    <tr>\n",
              "      <th>3</th>\n",
              "      <td>65</td>\n",
              "      <td>2020-04-14 04:36:35</td>\n",
              "    </tr>\n",
              "    <tr>\n",
              "      <th>4</th>\n",
              "      <td>68</td>\n",
              "      <td>2020-11-27 09:04:22</td>\n",
              "    </tr>\n",
              "    <tr>\n",
              "      <th>...</th>\n",
              "      <td>...</td>\n",
              "      <td>...</td>\n",
              "    </tr>\n",
              "    <tr>\n",
              "      <th>92</th>\n",
              "      <td>93</td>\n",
              "      <td>2024-03-13 15:07:35</td>\n",
              "    </tr>\n",
              "    <tr>\n",
              "      <th>93</th>\n",
              "      <td>170</td>\n",
              "      <td>2023-02-21 00:20:29</td>\n",
              "    </tr>\n",
              "    <tr>\n",
              "      <th>94</th>\n",
              "      <td>31</td>\n",
              "      <td>2024-06-03 23:01:53</td>\n",
              "    </tr>\n",
              "    <tr>\n",
              "      <th>95</th>\n",
              "      <td>77</td>\n",
              "      <td>2024-02-13 11:59:36</td>\n",
              "    </tr>\n",
              "    <tr>\n",
              "      <th>96</th>\n",
              "      <td>6</td>\n",
              "      <td>2024-08-30 22:33:21</td>\n",
              "    </tr>\n",
              "  </tbody>\n",
              "</table>\n",
              "<p>97 rows × 2 columns</p>\n",
              "</div>"
            ],
            "text/plain": [
              "    order_id          order_date\n",
              "0        185 2020-09-17 08:28:41\n",
              "1        141 2023-10-30 19:54:54\n",
              "2         70 2024-07-09 08:22:36\n",
              "3         65 2020-04-14 04:36:35\n",
              "4         68 2020-11-27 09:04:22\n",
              "..       ...                 ...\n",
              "92        93 2024-03-13 15:07:35\n",
              "93       170 2023-02-21 00:20:29\n",
              "94        31 2024-06-03 23:01:53\n",
              "95        77 2024-02-13 11:59:36\n",
              "96         6 2024-08-30 22:33:21\n",
              "\n",
              "[97 rows x 2 columns]"
            ]
          },
          "execution_count": 115,
          "metadata": {},
          "output_type": "execute_result"
        }
      ],
      "source": [
        "pd.read_sql(q10,conn)"
      ]
    },
    {
      "cell_type": "markdown",
      "metadata": {},
      "source": [
        "#11"
      ]
    },
    {
      "cell_type": "code",
      "execution_count": 116,
      "metadata": {
        "id": "R8BREfBEaNB-"
      },
      "outputs": [],
      "source": [
        "q11 = ''' Select p.category,COUNT(o.Order_id) as number_of_orders From products as p\n",
        "JOIN Orders as o\n",
        "ON o.Product_id = p.product_id\n",
        "Group By p.category\n",
        "Order By number_of_orders DESC'''"
      ]
    },
    {
      "cell_type": "code",
      "execution_count": 117,
      "metadata": {
        "id": "udG63gpkaNEx"
      },
      "outputs": [
        {
          "data": {
            "text/html": [
              "<div>\n",
              "<style scoped>\n",
              "    .dataframe tbody tr th:only-of-type {\n",
              "        vertical-align: middle;\n",
              "    }\n",
              "\n",
              "    .dataframe tbody tr th {\n",
              "        vertical-align: top;\n",
              "    }\n",
              "\n",
              "    .dataframe thead th {\n",
              "        text-align: right;\n",
              "    }\n",
              "</style>\n",
              "<table border=\"1\" class=\"dataframe\">\n",
              "  <thead>\n",
              "    <tr style=\"text-align: right;\">\n",
              "      <th></th>\n",
              "      <th>category</th>\n",
              "      <th>number_of_orders</th>\n",
              "    </tr>\n",
              "  </thead>\n",
              "  <tbody>\n",
              "    <tr>\n",
              "      <th>0</th>\n",
              "      <td>Books</td>\n",
              "      <td>39</td>\n",
              "    </tr>\n",
              "    <tr>\n",
              "      <th>1</th>\n",
              "      <td>Clothing</td>\n",
              "      <td>38</td>\n",
              "    </tr>\n",
              "    <tr>\n",
              "      <th>2</th>\n",
              "      <td>Toys</td>\n",
              "      <td>28</td>\n",
              "    </tr>\n",
              "    <tr>\n",
              "      <th>3</th>\n",
              "      <td>Electronics</td>\n",
              "      <td>28</td>\n",
              "    </tr>\n",
              "    <tr>\n",
              "      <th>4</th>\n",
              "      <td>Home &amp; Kitchen</td>\n",
              "      <td>25</td>\n",
              "    </tr>\n",
              "    <tr>\n",
              "      <th>5</th>\n",
              "      <td>Sports</td>\n",
              "      <td>22</td>\n",
              "    </tr>\n",
              "    <tr>\n",
              "      <th>6</th>\n",
              "      <td>Beauty</td>\n",
              "      <td>20</td>\n",
              "    </tr>\n",
              "  </tbody>\n",
              "</table>\n",
              "</div>"
            ],
            "text/plain": [
              "         category  number_of_orders\n",
              "0           Books                39\n",
              "1        Clothing                38\n",
              "2            Toys                28\n",
              "3     Electronics                28\n",
              "4  Home & Kitchen                25\n",
              "5          Sports                22\n",
              "6          Beauty                20"
            ]
          },
          "execution_count": 117,
          "metadata": {},
          "output_type": "execute_result"
        }
      ],
      "source": [
        "pd.read_sql(q11,conn)"
      ]
    },
    {
      "cell_type": "markdown",
      "metadata": {},
      "source": [
        "#12"
      ]
    },
    {
      "cell_type": "code",
      "execution_count": 118,
      "metadata": {
        "id": "XTcFc8suaNKL"
      },
      "outputs": [],
      "source": [
        "q12 = ''' Select o.order_id From orders as o\n",
        "JOIN payments as p\n",
        "ON o.order_id = p.order_id\n",
        "Where (o.status LIKE \"Delivered\" or o.status LIKE \"Shipped\") \n",
        "and (p.payment_status LIKE \"Failed\" or p.payment_status LIKE \"Pending\" or p.payment_status LIKE \"Refunded\") '''"
      ]
    },
    {
      "cell_type": "code",
      "execution_count": 119,
      "metadata": {
        "id": "6IIfdGKhaNM2"
      },
      "outputs": [
        {
          "data": {
            "text/html": [
              "<div>\n",
              "<style scoped>\n",
              "    .dataframe tbody tr th:only-of-type {\n",
              "        vertical-align: middle;\n",
              "    }\n",
              "\n",
              "    .dataframe tbody tr th {\n",
              "        vertical-align: top;\n",
              "    }\n",
              "\n",
              "    .dataframe thead th {\n",
              "        text-align: right;\n",
              "    }\n",
              "</style>\n",
              "<table border=\"1\" class=\"dataframe\">\n",
              "  <thead>\n",
              "    <tr style=\"text-align: right;\">\n",
              "      <th></th>\n",
              "      <th>order_id</th>\n",
              "    </tr>\n",
              "  </thead>\n",
              "  <tbody>\n",
              "    <tr>\n",
              "      <th>0</th>\n",
              "      <td>70</td>\n",
              "    </tr>\n",
              "    <tr>\n",
              "      <th>1</th>\n",
              "      <td>88</td>\n",
              "    </tr>\n",
              "    <tr>\n",
              "      <th>2</th>\n",
              "      <td>198</td>\n",
              "    </tr>\n",
              "    <tr>\n",
              "      <th>3</th>\n",
              "      <td>77</td>\n",
              "    </tr>\n",
              "    <tr>\n",
              "      <th>4</th>\n",
              "      <td>77</td>\n",
              "    </tr>\n",
              "    <tr>\n",
              "      <th>...</th>\n",
              "      <td>...</td>\n",
              "    </tr>\n",
              "    <tr>\n",
              "      <th>71</th>\n",
              "      <td>93</td>\n",
              "    </tr>\n",
              "    <tr>\n",
              "      <th>72</th>\n",
              "      <td>100</td>\n",
              "    </tr>\n",
              "    <tr>\n",
              "      <th>73</th>\n",
              "      <td>170</td>\n",
              "    </tr>\n",
              "    <tr>\n",
              "      <th>74</th>\n",
              "      <td>153</td>\n",
              "    </tr>\n",
              "    <tr>\n",
              "      <th>75</th>\n",
              "      <td>77</td>\n",
              "    </tr>\n",
              "  </tbody>\n",
              "</table>\n",
              "<p>76 rows × 1 columns</p>\n",
              "</div>"
            ],
            "text/plain": [
              "    order_id\n",
              "0         70\n",
              "1         88\n",
              "2        198\n",
              "3         77\n",
              "4         77\n",
              "..       ...\n",
              "71        93\n",
              "72       100\n",
              "73       170\n",
              "74       153\n",
              "75        77\n",
              "\n",
              "[76 rows x 1 columns]"
            ]
          },
          "execution_count": 119,
          "metadata": {},
          "output_type": "execute_result"
        }
      ],
      "source": [
        "pd.read_sql(q12,conn)"
      ]
    },
    {
      "cell_type": "code",
      "execution_count": 120,
      "metadata": {
        "id": "DU0fFRaiaNPf"
      },
      "outputs": [],
      "source": [
        "#13"
      ]
    },
    {
      "cell_type": "code",
      "execution_count": 121,
      "metadata": {
        "id": "oTwLmiFQaNSH"
      },
      "outputs": [],
      "source": [
        "q13 = ''' Select CONCAT(c.first_name,\" \",c.last_name) as customer_name,AVG(o.total_amount) as AOV\n",
        "From Customers as c\n",
        "JOIN Orders as o\n",
        "ON c.customer_id = o.customer_id\n",
        "Group By customer_name'''"
      ]
    },
    {
      "cell_type": "code",
      "execution_count": 122,
      "metadata": {
        "id": "TRH8N6OsaNU4"
      },
      "outputs": [
        {
          "data": {
            "text/html": [
              "<div>\n",
              "<style scoped>\n",
              "    .dataframe tbody tr th:only-of-type {\n",
              "        vertical-align: middle;\n",
              "    }\n",
              "\n",
              "    .dataframe tbody tr th {\n",
              "        vertical-align: top;\n",
              "    }\n",
              "\n",
              "    .dataframe thead th {\n",
              "        text-align: right;\n",
              "    }\n",
              "</style>\n",
              "<table border=\"1\" class=\"dataframe\">\n",
              "  <thead>\n",
              "    <tr style=\"text-align: right;\">\n",
              "      <th></th>\n",
              "      <th>customer_name</th>\n",
              "      <th>AOV</th>\n",
              "    </tr>\n",
              "  </thead>\n",
              "  <tbody>\n",
              "    <tr>\n",
              "      <th>0</th>\n",
              "      <td>Thomas Steele</td>\n",
              "      <td>192.415000</td>\n",
              "    </tr>\n",
              "    <tr>\n",
              "      <th>1</th>\n",
              "      <td>Carla Young</td>\n",
              "      <td>639.417500</td>\n",
              "    </tr>\n",
              "    <tr>\n",
              "      <th>2</th>\n",
              "      <td>Shawn Brown</td>\n",
              "      <td>576.756667</td>\n",
              "    </tr>\n",
              "    <tr>\n",
              "      <th>3</th>\n",
              "      <td>Tammy Byrd</td>\n",
              "      <td>664.638000</td>\n",
              "    </tr>\n",
              "    <tr>\n",
              "      <th>4</th>\n",
              "      <td>Robert Gardner</td>\n",
              "      <td>747.650000</td>\n",
              "    </tr>\n",
              "    <tr>\n",
              "      <th>...</th>\n",
              "      <td>...</td>\n",
              "      <td>...</td>\n",
              "    </tr>\n",
              "    <tr>\n",
              "      <th>78</th>\n",
              "      <td>Bobby Oliver</td>\n",
              "      <td>876.590000</td>\n",
              "    </tr>\n",
              "    <tr>\n",
              "      <th>79</th>\n",
              "      <td>Brenda Edwards</td>\n",
              "      <td>503.020000</td>\n",
              "    </tr>\n",
              "    <tr>\n",
              "      <th>80</th>\n",
              "      <td>Chelsea Flores</td>\n",
              "      <td>854.870000</td>\n",
              "    </tr>\n",
              "    <tr>\n",
              "      <th>81</th>\n",
              "      <td>Emily Garcia</td>\n",
              "      <td>454.750000</td>\n",
              "    </tr>\n",
              "    <tr>\n",
              "      <th>82</th>\n",
              "      <td>Connie Love</td>\n",
              "      <td>830.250000</td>\n",
              "    </tr>\n",
              "  </tbody>\n",
              "</table>\n",
              "<p>83 rows × 2 columns</p>\n",
              "</div>"
            ],
            "text/plain": [
              "     customer_name         AOV\n",
              "0    Thomas Steele  192.415000\n",
              "1      Carla Young  639.417500\n",
              "2      Shawn Brown  576.756667\n",
              "3       Tammy Byrd  664.638000\n",
              "4   Robert Gardner  747.650000\n",
              "..             ...         ...\n",
              "78    Bobby Oliver  876.590000\n",
              "79  Brenda Edwards  503.020000\n",
              "80  Chelsea Flores  854.870000\n",
              "81    Emily Garcia  454.750000\n",
              "82     Connie Love  830.250000\n",
              "\n",
              "[83 rows x 2 columns]"
            ]
          },
          "execution_count": 122,
          "metadata": {},
          "output_type": "execute_result"
        }
      ],
      "source": [
        "pd.read_sql(q13,conn)"
      ]
    },
    {
      "cell_type": "markdown",
      "metadata": {},
      "source": [
        "# Business Oriented Problems"
      ]
    },
    {
      "cell_type": "code",
      "execution_count": 123,
      "metadata": {
        "id": "OV-6EYsqaNXr"
      },
      "outputs": [],
      "source": [
        "#14"
      ]
    },
    {
      "cell_type": "code",
      "execution_count": 124,
      "metadata": {
        "id": "AU4M8O_KaNac"
      },
      "outputs": [],
      "source": [
        "q14 = '''Select payment_method,COUNT(order_id) as no_of_times_used From payments\n",
        "Group By payment_method\n",
        "Order By no_of_times_used DESC'''"
      ]
    },
    {
      "cell_type": "code",
      "execution_count": 125,
      "metadata": {
        "id": "KkfF2uXNaNda"
      },
      "outputs": [
        {
          "data": {
            "text/html": [
              "<div>\n",
              "<style scoped>\n",
              "    .dataframe tbody tr th:only-of-type {\n",
              "        vertical-align: middle;\n",
              "    }\n",
              "\n",
              "    .dataframe tbody tr th {\n",
              "        vertical-align: top;\n",
              "    }\n",
              "\n",
              "    .dataframe thead th {\n",
              "        text-align: right;\n",
              "    }\n",
              "</style>\n",
              "<table border=\"1\" class=\"dataframe\">\n",
              "  <thead>\n",
              "    <tr style=\"text-align: right;\">\n",
              "      <th></th>\n",
              "      <th>payment_method</th>\n",
              "      <th>no_of_times_used</th>\n",
              "    </tr>\n",
              "  </thead>\n",
              "  <tbody>\n",
              "    <tr>\n",
              "      <th>0</th>\n",
              "      <td>Cash On Delivery</td>\n",
              "      <td>48</td>\n",
              "    </tr>\n",
              "    <tr>\n",
              "      <th>1</th>\n",
              "      <td>Credit Card</td>\n",
              "      <td>45</td>\n",
              "    </tr>\n",
              "    <tr>\n",
              "      <th>2</th>\n",
              "      <td>PayPal</td>\n",
              "      <td>36</td>\n",
              "    </tr>\n",
              "    <tr>\n",
              "      <th>3</th>\n",
              "      <td>Debit Card</td>\n",
              "      <td>36</td>\n",
              "    </tr>\n",
              "    <tr>\n",
              "      <th>4</th>\n",
              "      <td>Bank Transfer</td>\n",
              "      <td>35</td>\n",
              "    </tr>\n",
              "  </tbody>\n",
              "</table>\n",
              "</div>"
            ],
            "text/plain": [
              "     payment_method  no_of_times_used\n",
              "0  Cash On Delivery                48\n",
              "1       Credit Card                45\n",
              "2            PayPal                36\n",
              "3        Debit Card                36\n",
              "4     Bank Transfer                35"
            ]
          },
          "execution_count": 125,
          "metadata": {},
          "output_type": "execute_result"
        }
      ],
      "source": [
        "pd.read_sql(q14,conn)"
      ]
    },
    {
      "cell_type": "code",
      "execution_count": 126,
      "metadata": {
        "id": "4I2-lmjOaNgE"
      },
      "outputs": [],
      "source": [
        "#15"
      ]
    },
    {
      "cell_type": "code",
      "execution_count": 127,
      "metadata": {
        "id": "9wCPgQfMaNkt"
      },
      "outputs": [],
      "source": [
        "q15 = '''Select (COUNT(order_id)/(Select COUNT(order_id) From orders))*100 as percentage_of_orders_Cancelled\n",
        "From Orders where status = \"Cancelled\"'''"
      ]
    },
    {
      "cell_type": "code",
      "execution_count": 128,
      "metadata": {
        "id": "BG9sXnJaaNnc"
      },
      "outputs": [
        {
          "data": {
            "text/html": [
              "<div>\n",
              "<style scoped>\n",
              "    .dataframe tbody tr th:only-of-type {\n",
              "        vertical-align: middle;\n",
              "    }\n",
              "\n",
              "    .dataframe tbody tr th {\n",
              "        vertical-align: top;\n",
              "    }\n",
              "\n",
              "    .dataframe thead th {\n",
              "        text-align: right;\n",
              "    }\n",
              "</style>\n",
              "<table border=\"1\" class=\"dataframe\">\n",
              "  <thead>\n",
              "    <tr style=\"text-align: right;\">\n",
              "      <th></th>\n",
              "      <th>percentage_of_orders_Cancelled</th>\n",
              "    </tr>\n",
              "  </thead>\n",
              "  <tbody>\n",
              "    <tr>\n",
              "      <th>0</th>\n",
              "      <td>22.0</td>\n",
              "    </tr>\n",
              "  </tbody>\n",
              "</table>\n",
              "</div>"
            ],
            "text/plain": [
              "   percentage_of_orders_Cancelled\n",
              "0                            22.0"
            ]
          },
          "execution_count": 128,
          "metadata": {},
          "output_type": "execute_result"
        }
      ],
      "source": [
        "pd.read_sql(q15,conn)"
      ]
    },
    {
      "cell_type": "code",
      "execution_count": 129,
      "metadata": {
        "id": "PIJiRqRcaNql"
      },
      "outputs": [],
      "source": [
        "#16"
      ]
    },
    {
      "cell_type": "code",
      "execution_count": 130,
      "metadata": {
        "id": "IpzanNb-aNti"
      },
      "outputs": [],
      "source": [
        "q16 = ''' Select MONTH(order_date) as Month,COUNT(order_id) as total_orders From orders\n",
        "Group BY MONTH(order_date)\n",
        "Order BY total_orders DESC'''"
      ]
    },
    {
      "cell_type": "code",
      "execution_count": 131,
      "metadata": {
        "id": "bpIj968vaNwc"
      },
      "outputs": [
        {
          "data": {
            "text/html": [
              "<div>\n",
              "<style scoped>\n",
              "    .dataframe tbody tr th:only-of-type {\n",
              "        vertical-align: middle;\n",
              "    }\n",
              "\n",
              "    .dataframe tbody tr th {\n",
              "        vertical-align: top;\n",
              "    }\n",
              "\n",
              "    .dataframe thead th {\n",
              "        text-align: right;\n",
              "    }\n",
              "</style>\n",
              "<table border=\"1\" class=\"dataframe\">\n",
              "  <thead>\n",
              "    <tr style=\"text-align: right;\">\n",
              "      <th></th>\n",
              "      <th>Month</th>\n",
              "      <th>total_orders</th>\n",
              "    </tr>\n",
              "  </thead>\n",
              "  <tbody>\n",
              "    <tr>\n",
              "      <th>0</th>\n",
              "      <td>1</td>\n",
              "      <td>22</td>\n",
              "    </tr>\n",
              "    <tr>\n",
              "      <th>1</th>\n",
              "      <td>2</td>\n",
              "      <td>22</td>\n",
              "    </tr>\n",
              "    <tr>\n",
              "      <th>2</th>\n",
              "      <td>11</td>\n",
              "      <td>20</td>\n",
              "    </tr>\n",
              "    <tr>\n",
              "      <th>3</th>\n",
              "      <td>6</td>\n",
              "      <td>18</td>\n",
              "    </tr>\n",
              "    <tr>\n",
              "      <th>4</th>\n",
              "      <td>3</td>\n",
              "      <td>18</td>\n",
              "    </tr>\n",
              "    <tr>\n",
              "      <th>5</th>\n",
              "      <td>10</td>\n",
              "      <td>17</td>\n",
              "    </tr>\n",
              "    <tr>\n",
              "      <th>6</th>\n",
              "      <td>5</td>\n",
              "      <td>16</td>\n",
              "    </tr>\n",
              "    <tr>\n",
              "      <th>7</th>\n",
              "      <td>9</td>\n",
              "      <td>16</td>\n",
              "    </tr>\n",
              "    <tr>\n",
              "      <th>8</th>\n",
              "      <td>12</td>\n",
              "      <td>15</td>\n",
              "    </tr>\n",
              "    <tr>\n",
              "      <th>9</th>\n",
              "      <td>4</td>\n",
              "      <td>13</td>\n",
              "    </tr>\n",
              "    <tr>\n",
              "      <th>10</th>\n",
              "      <td>8</td>\n",
              "      <td>12</td>\n",
              "    </tr>\n",
              "    <tr>\n",
              "      <th>11</th>\n",
              "      <td>7</td>\n",
              "      <td>11</td>\n",
              "    </tr>\n",
              "  </tbody>\n",
              "</table>\n",
              "</div>"
            ],
            "text/plain": [
              "    Month  total_orders\n",
              "0       1            22\n",
              "1       2            22\n",
              "2      11            20\n",
              "3       6            18\n",
              "4       3            18\n",
              "5      10            17\n",
              "6       5            16\n",
              "7       9            16\n",
              "8      12            15\n",
              "9       4            13\n",
              "10      8            12\n",
              "11      7            11"
            ]
          },
          "execution_count": 131,
          "metadata": {},
          "output_type": "execute_result"
        }
      ],
      "source": [
        "pd.read_sql(q16,conn)"
      ]
    },
    {
      "cell_type": "markdown",
      "metadata": {},
      "source": [
        "# Data Validation"
      ]
    },
    {
      "cell_type": "code",
      "execution_count": 132,
      "metadata": {
        "id": "Ugo-Khr8aN2L"
      },
      "outputs": [],
      "source": [
        "#10"
      ]
    },
    {
      "cell_type": "code",
      "execution_count": 133,
      "metadata": {
        "id": "0RYa2V0WaN5E"
      },
      "outputs": [],
      "source": [
        "q1 = 'Select customer_id From Orders Where customer_id NOT IN (select customer_id from customers)'"
      ]
    },
    {
      "cell_type": "code",
      "execution_count": 134,
      "metadata": {
        "id": "PQAuab3laN8B"
      },
      "outputs": [
        {
          "data": {
            "text/html": [
              "<div>\n",
              "<style scoped>\n",
              "    .dataframe tbody tr th:only-of-type {\n",
              "        vertical-align: middle;\n",
              "    }\n",
              "\n",
              "    .dataframe tbody tr th {\n",
              "        vertical-align: top;\n",
              "    }\n",
              "\n",
              "    .dataframe thead th {\n",
              "        text-align: right;\n",
              "    }\n",
              "</style>\n",
              "<table border=\"1\" class=\"dataframe\">\n",
              "  <thead>\n",
              "    <tr style=\"text-align: right;\">\n",
              "      <th></th>\n",
              "      <th>customer_id</th>\n",
              "    </tr>\n",
              "  </thead>\n",
              "  <tbody>\n",
              "  </tbody>\n",
              "</table>\n",
              "</div>"
            ],
            "text/plain": [
              "Empty DataFrame\n",
              "Columns: [customer_id]\n",
              "Index: []"
            ]
          },
          "execution_count": 134,
          "metadata": {},
          "output_type": "execute_result"
        }
      ],
      "source": [
        "pd.read_sql(q1,conn)"
      ]
    },
    {
      "cell_type": "code",
      "execution_count": 135,
      "metadata": {},
      "outputs": [],
      "source": [
        "# Every order have valid customer_id"
      ]
    },
    {
      "cell_type": "code",
      "execution_count": 136,
      "metadata": {
        "id": "YbmU_gIMaN-2"
      },
      "outputs": [],
      "source": [
        "q2 = '''Select o.order_id From orders as o\n",
        "JOIN payments as p\n",
        "ON o.order_id = p.order_id\n",
        "Where p.payment_status LIKE \"Failed\" or p.payment_status LIKE \"Pending\"'''"
      ]
    },
    {
      "cell_type": "code",
      "execution_count": 137,
      "metadata": {
        "id": "el7hlUlTaOBm"
      },
      "outputs": [
        {
          "data": {
            "text/html": [
              "<div>\n",
              "<style scoped>\n",
              "    .dataframe tbody tr th:only-of-type {\n",
              "        vertical-align: middle;\n",
              "    }\n",
              "\n",
              "    .dataframe tbody tr th {\n",
              "        vertical-align: top;\n",
              "    }\n",
              "\n",
              "    .dataframe thead th {\n",
              "        text-align: right;\n",
              "    }\n",
              "</style>\n",
              "<table border=\"1\" class=\"dataframe\">\n",
              "  <thead>\n",
              "    <tr style=\"text-align: right;\">\n",
              "      <th></th>\n",
              "      <th>order_id</th>\n",
              "    </tr>\n",
              "  </thead>\n",
              "  <tbody>\n",
              "    <tr>\n",
              "      <th>0</th>\n",
              "      <td>185</td>\n",
              "    </tr>\n",
              "    <tr>\n",
              "      <th>1</th>\n",
              "      <td>141</td>\n",
              "    </tr>\n",
              "    <tr>\n",
              "      <th>2</th>\n",
              "      <td>70</td>\n",
              "    </tr>\n",
              "    <tr>\n",
              "      <th>3</th>\n",
              "      <td>65</td>\n",
              "    </tr>\n",
              "    <tr>\n",
              "      <th>4</th>\n",
              "      <td>68</td>\n",
              "    </tr>\n",
              "    <tr>\n",
              "      <th>...</th>\n",
              "      <td>...</td>\n",
              "    </tr>\n",
              "    <tr>\n",
              "      <th>92</th>\n",
              "      <td>93</td>\n",
              "    </tr>\n",
              "    <tr>\n",
              "      <th>93</th>\n",
              "      <td>170</td>\n",
              "    </tr>\n",
              "    <tr>\n",
              "      <th>94</th>\n",
              "      <td>31</td>\n",
              "    </tr>\n",
              "    <tr>\n",
              "      <th>95</th>\n",
              "      <td>77</td>\n",
              "    </tr>\n",
              "    <tr>\n",
              "      <th>96</th>\n",
              "      <td>6</td>\n",
              "    </tr>\n",
              "  </tbody>\n",
              "</table>\n",
              "<p>97 rows × 1 columns</p>\n",
              "</div>"
            ],
            "text/plain": [
              "    order_id\n",
              "0        185\n",
              "1        141\n",
              "2         70\n",
              "3         65\n",
              "4         68\n",
              "..       ...\n",
              "92        93\n",
              "93       170\n",
              "94        31\n",
              "95        77\n",
              "96         6\n",
              "\n",
              "[97 rows x 1 columns]"
            ]
          },
          "execution_count": 137,
          "metadata": {},
          "output_type": "execute_result"
        }
      ],
      "source": [
        "pd.read_sql(q2,conn)"
      ]
    },
    {
      "cell_type": "code",
      "execution_count": 138,
      "metadata": {
        "id": "CrYSsvsmaOD7"
      },
      "outputs": [],
      "source": [
        "#This gives order id, where payment status is either failed or pending."
      ]
    },
    {
      "cell_type": "code",
      "execution_count": 139,
      "metadata": {
        "id": "Lwm3WjxfaOGV"
      },
      "outputs": [],
      "source": [
        "q3 = ''' Select order_id From Payments\n",
        "Where order_id NOT IN (select order_id from orders)'''"
      ]
    },
    {
      "cell_type": "code",
      "execution_count": 140,
      "metadata": {
        "id": "vw8_P4f8aOJA"
      },
      "outputs": [
        {
          "data": {
            "text/html": [
              "<div>\n",
              "<style scoped>\n",
              "    .dataframe tbody tr th:only-of-type {\n",
              "        vertical-align: middle;\n",
              "    }\n",
              "\n",
              "    .dataframe tbody tr th {\n",
              "        vertical-align: top;\n",
              "    }\n",
              "\n",
              "    .dataframe thead th {\n",
              "        text-align: right;\n",
              "    }\n",
              "</style>\n",
              "<table border=\"1\" class=\"dataframe\">\n",
              "  <thead>\n",
              "    <tr style=\"text-align: right;\">\n",
              "      <th></th>\n",
              "      <th>order_id</th>\n",
              "    </tr>\n",
              "  </thead>\n",
              "  <tbody>\n",
              "  </tbody>\n",
              "</table>\n",
              "</div>"
            ],
            "text/plain": [
              "Empty DataFrame\n",
              "Columns: [order_id]\n",
              "Index: []"
            ]
          },
          "execution_count": 140,
          "metadata": {},
          "output_type": "execute_result"
        }
      ],
      "source": [
        "pd.read_sql(q3,conn)"
      ]
    },
    {
      "cell_type": "code",
      "execution_count": 141,
      "metadata": {
        "id": "w1YuQfLNaOLw"
      },
      "outputs": [],
      "source": [
        "#This checks whether every order_id present in or referenced in Payment table  is related to orginal order_id present in orders table."
      ]
    },
    {
      "cell_type": "code",
      "execution_count": null,
      "metadata": {
        "id": "Fo4n0-c1aOOc"
      },
      "outputs": [],
      "source": []
    },
    {
      "cell_type": "code",
      "execution_count": null,
      "metadata": {
        "id": "dU8EmNU3aORP"
      },
      "outputs": [],
      "source": []
    },
    {
      "cell_type": "code",
      "execution_count": null,
      "metadata": {
        "id": "CgzBjcOOaOT3"
      },
      "outputs": [],
      "source": []
    },
    {
      "cell_type": "code",
      "execution_count": null,
      "metadata": {
        "id": "MK0kihIXaOWn"
      },
      "outputs": [],
      "source": []
    },
    {
      "cell_type": "code",
      "execution_count": null,
      "metadata": {
        "id": "PzcOfKhXaOZE"
      },
      "outputs": [],
      "source": []
    },
    {
      "cell_type": "code",
      "execution_count": null,
      "metadata": {
        "id": "PavdC8hEaOcB"
      },
      "outputs": [],
      "source": []
    },
    {
      "cell_type": "code",
      "execution_count": null,
      "metadata": {
        "id": "UAu-aC3daOex"
      },
      "outputs": [],
      "source": []
    },
    {
      "cell_type": "code",
      "execution_count": null,
      "metadata": {
        "id": "9Ll2VBoOaOhd"
      },
      "outputs": [],
      "source": []
    },
    {
      "cell_type": "code",
      "execution_count": null,
      "metadata": {
        "id": "0cjM3y81aOkX"
      },
      "outputs": [],
      "source": []
    },
    {
      "cell_type": "code",
      "execution_count": null,
      "metadata": {
        "id": "9MCtyNDjaOmd"
      },
      "outputs": [],
      "source": []
    },
    {
      "cell_type": "code",
      "execution_count": null,
      "metadata": {
        "id": "H99no-bxaOpq"
      },
      "outputs": [],
      "source": []
    },
    {
      "cell_type": "code",
      "execution_count": null,
      "metadata": {
        "id": "ky3aMPAdaQZX"
      },
      "outputs": [],
      "source": []
    },
    {
      "cell_type": "code",
      "execution_count": null,
      "metadata": {
        "id": "ib2K-8wDaQgo"
      },
      "outputs": [],
      "source": []
    },
    {
      "cell_type": "code",
      "execution_count": null,
      "metadata": {
        "id": "hvw3-y3WaQh6"
      },
      "outputs": [],
      "source": []
    },
    {
      "cell_type": "code",
      "execution_count": null,
      "metadata": {
        "id": "_0QoXwedaQjT"
      },
      "outputs": [],
      "source": []
    },
    {
      "cell_type": "code",
      "execution_count": null,
      "metadata": {
        "id": "rw-9E7ZCaQks"
      },
      "outputs": [],
      "source": []
    },
    {
      "cell_type": "code",
      "execution_count": null,
      "metadata": {
        "id": "_PdUsSWXaQnI"
      },
      "outputs": [],
      "source": []
    },
    {
      "cell_type": "code",
      "execution_count": null,
      "metadata": {
        "id": "-4n8sxlDaQqE"
      },
      "outputs": [],
      "source": []
    },
    {
      "cell_type": "code",
      "execution_count": null,
      "metadata": {
        "id": "wuUz7FOBaQsp"
      },
      "outputs": [],
      "source": []
    },
    {
      "cell_type": "code",
      "execution_count": null,
      "metadata": {
        "id": "U3Lwve0GaQv9"
      },
      "outputs": [],
      "source": []
    },
    {
      "cell_type": "code",
      "execution_count": null,
      "metadata": {
        "id": "PGAhWWpmaQ0s"
      },
      "outputs": [],
      "source": []
    },
    {
      "cell_type": "code",
      "execution_count": null,
      "metadata": {
        "id": "SxYiuytnaQ3I"
      },
      "outputs": [],
      "source": []
    },
    {
      "cell_type": "code",
      "execution_count": null,
      "metadata": {
        "id": "3JcOnn2oaQ55"
      },
      "outputs": [],
      "source": []
    },
    {
      "cell_type": "code",
      "execution_count": null,
      "metadata": {
        "id": "P_4WIBLwaQ8n"
      },
      "outputs": [],
      "source": []
    },
    {
      "cell_type": "code",
      "execution_count": null,
      "metadata": {
        "id": "9msinsw8aQ_z"
      },
      "outputs": [],
      "source": []
    }
  ],
  "metadata": {
    "colab": {
      "provenance": []
    },
    "kernelspec": {
      "display_name": "Python 3",
      "name": "python3"
    },
    "language_info": {
      "codemirror_mode": {
        "name": "ipython",
        "version": 3
      },
      "file_extension": ".py",
      "mimetype": "text/x-python",
      "name": "python",
      "nbconvert_exporter": "python",
      "pygments_lexer": "ipython3",
      "version": "3.11.9"
    }
  },
  "nbformat": 4,
  "nbformat_minor": 0
}
